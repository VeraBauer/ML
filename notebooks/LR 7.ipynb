{
 "cells": [
  {
   "cell_type": "markdown",
   "id": "b153ba65",
   "metadata": {},
   "source": [
    "# Лабораторная работа 7. Понижение размерности. Отбор признаков. Извлечение признаков"
   ]
  },
  {
   "cell_type": "markdown",
   "id": "be1f881a",
   "metadata": {},
   "source": [
    "# Задание\n",
    "  1. Используйте **наборы данных для классификации и регрессии**, с помощью которых вы выполняли ЛР1-ЛР4.\n",
    "2. С помощью классов библиотеки sklearn выполните понижение размерности (**размерность выберите сами, можно разные**) с использованием всех описанных методов (VarianceThreshold, SelectKBest, RFE, PCA, tSNE, Isomap).\n",
    "3. **Выберите две модели** (одна - для регрессии и другая - для классификации).\n",
    "4. Обучите выбранные модели с использованием данных в пространстве низкой размерности - **используйте результаты выполнения пункта 3** (не забудьте, что понижать нужно и X_train и X_test - проще всего понижать X). **Сделайте вывод** о том, какие методы понижения размерности лучше всего подходят для ваших данных.\n",
    "5. **Самостоятельно реализуйте алгоритм PCA**. Выполните с его помощью понижение размерности датасета для классификации до 2 (преобразуйте данные в двумерное пространство). **Выполните визуализацию данных** (точки на плоскости).\n",
    "6. Попробуйте выполнить **кластеризацию преобразованных в пункте 5 данных с помощью вашей реализации алгоритма KMeans** из ЛР6.\n",
    "7. Используйте оригинальный датасет для регрессии (без понижения размерности). Обучите любую из линейных моделей, реализованных вами в ЛР1. **Важно: модель должна быть реализована вами, не sklearn!** Посмотрите значения коэффициентов модели, выберите несколько признаков с наибольшими значениями коэффициентов.\n"
   ]
  },
  {
   "cell_type": "code",
   "execution_count": 1,
   "id": "f52c639d",
   "metadata": {},
   "outputs": [],
   "source": [
    "from sklearn.tree import DecisionTreeClassifier, DecisionTreeRegressor, plot_tree\n",
    "from sklearn import datasets\n",
    "from sklearn import tree\n",
    "import pandas as pd\n",
    "import numpy as np\n",
    "import seaborn as sns\n",
    "import matplotlib.pyplot as plt\n",
    "from sklearn.metrics import mean_squared_error, mean_absolute_error, accuracy_score, confusion_matrix, classification_report, roc_curve, RocCurveDisplay, auc, r2_score, mean_absolute_percentage_error\n",
    "from math import sqrt\n",
    "from sklearn.preprocessing import PolynomialFeatures\n",
    "from sklearn.model_selection import train_test_split\n",
    "from sklearn.model_selection import GridSearchCV, RandomizedSearchCV\n",
    "from sklearn.preprocessing import MinMaxScaler\n",
    "from sklearn.ensemble import BaggingClassifier\n",
    "from sklearn.ensemble import BaggingRegressor\n",
    "from sklearn.ensemble import GradientBoostingRegressor\n",
    "from sklearn.ensemble import GradientBoostingClassifier\n",
    "from sklearn.ensemble import StackingRegressor\n",
    "from sklearn.ensemble import StackingClassifier\n",
    "from sklearn.linear_model import RidgeCV\n",
    "from sklearn.neighbors import KNeighborsClassifier\n",
    "#!pip install xgboost\n",
    "from xgboost import XGBRegressor\n",
    "from xgboost import XGBClassifier\n",
    "from sklearn.datasets import make_classification, make_regression\n",
    "\n",
    "import pandas as pd\n",
    "import numpy as np\n",
    "import math\n",
    "import matplotlib.pyplot as plt\n",
    "import sklearn.ensemble as ensemble\n",
    "\n",
    "from sklearn.preprocessing import MinMaxScaler\n",
    "from sklearn import metrics\n",
    "from sklearn.linear_model import LogisticRegression\n",
    "from sklearn.model_selection import train_test_split\n",
    "from sklearn.metrics import classification_report\n",
    "from sklearn import preprocessing\n",
    "from sklearn.naive_bayes import GaussianNB\n",
    "from sklearn import svm\n",
    "from sklearn.model_selection import GridSearchCV\n",
    "from sklearn.metrics import accuracy_score\n",
    "from sklearn.metrics import confusion_matrix\n",
    "from imblearn.over_sampling import SMOTE\n",
    "from sklearn.preprocessing import StandardScaler\n",
    "\n",
    "from sklearn.metrics import classification_report\n",
    "\n",
    "from sklearn.feature_selection import VarianceThreshold\n",
    "from sklearn.feature_selection import SelectKBest\n",
    "from sklearn.feature_selection import RFE\n",
    "from sklearn.tree import DecisionTreeClassifier\n",
    "from sklearn.decomposition import PCA\n",
    "from sklearn.manifold import TSNE, Isomap\n",
    "\n",
    "from sklearn.linear_model import LinearRegression, Ridge\n",
    "from sklearn.metrics import mean_squared_error, mean_absolute_error, mean_absolute_percentage_error\n",
    "from math import sqrt\n"
   ]
  },
  {
   "cell_type": "markdown",
   "id": "e84fb1cd",
   "metadata": {},
   "source": [
    "**Загрузим предобработанные в прошлых лр датасеты**"
   ]
  },
  {
   "cell_type": "code",
   "execution_count": 2,
   "id": "5a95b2f8",
   "metadata": {},
   "outputs": [],
   "source": [
    "data_reg = pd.read_csv('../data/mumbai.csv')\n",
    "data_сlr = pd.read_csv('..\\data\\smoke_detector.csv')"
   ]
  },
  {
   "cell_type": "code",
   "execution_count": 3,
   "id": "d6cbde23",
   "metadata": {},
   "outputs": [
    {
     "data": {
      "text/html": [
       "<div>\n",
       "<style scoped>\n",
       "    .dataframe tbody tr th:only-of-type {\n",
       "        vertical-align: middle;\n",
       "    }\n",
       "\n",
       "    .dataframe tbody tr th {\n",
       "        vertical-align: top;\n",
       "    }\n",
       "\n",
       "    .dataframe thead th {\n",
       "        text-align: right;\n",
       "    }\n",
       "</style>\n",
       "<table border=\"1\" class=\"dataframe\">\n",
       "  <thead>\n",
       "    <tr style=\"text-align: right;\">\n",
       "      <th></th>\n",
       "      <th>Unnamed: 0</th>\n",
       "      <th>Temperature[C]</th>\n",
       "      <th>Humidity[%]</th>\n",
       "      <th>TVOC[ppb]</th>\n",
       "      <th>eCO2[ppm]</th>\n",
       "      <th>Raw H2</th>\n",
       "      <th>Raw Ethanol</th>\n",
       "      <th>Pressure[hPa]</th>\n",
       "      <th>PM1.0</th>\n",
       "      <th>PM2.5</th>\n",
       "      <th>NC0.5</th>\n",
       "      <th>NC1.0</th>\n",
       "      <th>NC2.5</th>\n",
       "      <th>Fire Alarm</th>\n",
       "    </tr>\n",
       "  </thead>\n",
       "  <tbody>\n",
       "    <tr>\n",
       "      <th>0</th>\n",
       "      <td>50065</td>\n",
       "      <td>23.41</td>\n",
       "      <td>69.47</td>\n",
       "      <td>43.0</td>\n",
       "      <td>1120.0</td>\n",
       "      <td>13105.0</td>\n",
       "      <td>19890.0</td>\n",
       "      <td>931.239</td>\n",
       "      <td>14299.14</td>\n",
       "      <td>45432.26</td>\n",
       "      <td>21592.18</td>\n",
       "      <td>51914.680</td>\n",
       "      <td>30026.438</td>\n",
       "      <td>1.0</td>\n",
       "    </tr>\n",
       "    <tr>\n",
       "      <th>1</th>\n",
       "      <td>50064</td>\n",
       "      <td>23.00</td>\n",
       "      <td>70.28</td>\n",
       "      <td>50.0</td>\n",
       "      <td>1137.0</td>\n",
       "      <td>13094.0</td>\n",
       "      <td>19887.0</td>\n",
       "      <td>931.242</td>\n",
       "      <td>14333.69</td>\n",
       "      <td>45018.38</td>\n",
       "      <td>22959.95</td>\n",
       "      <td>51413.852</td>\n",
       "      <td>29590.688</td>\n",
       "      <td>1.0</td>\n",
       "    </tr>\n",
       "    <tr>\n",
       "      <th>2</th>\n",
       "      <td>50066</td>\n",
       "      <td>23.66</td>\n",
       "      <td>68.41</td>\n",
       "      <td>52.0</td>\n",
       "      <td>1141.0</td>\n",
       "      <td>13100.0</td>\n",
       "      <td>19882.0</td>\n",
       "      <td>931.251</td>\n",
       "      <td>14149.05</td>\n",
       "      <td>44786.43</td>\n",
       "      <td>21789.97</td>\n",
       "      <td>51167.711</td>\n",
       "      <td>29547.281</td>\n",
       "      <td>1.0</td>\n",
       "    </tr>\n",
       "    <tr>\n",
       "      <th>3</th>\n",
       "      <td>50124</td>\n",
       "      <td>25.86</td>\n",
       "      <td>62.03</td>\n",
       "      <td>546.0</td>\n",
       "      <td>1777.0</td>\n",
       "      <td>12872.0</td>\n",
       "      <td>19414.0</td>\n",
       "      <td>931.213</td>\n",
       "      <td>14318.17</td>\n",
       "      <td>44357.90</td>\n",
       "      <td>24472.12</td>\n",
       "      <td>50626.562</td>\n",
       "      <td>28964.852</td>\n",
       "      <td>1.0</td>\n",
       "    </tr>\n",
       "    <tr>\n",
       "      <th>4</th>\n",
       "      <td>50123</td>\n",
       "      <td>25.74</td>\n",
       "      <td>62.93</td>\n",
       "      <td>542.0</td>\n",
       "      <td>1710.0</td>\n",
       "      <td>12878.0</td>\n",
       "      <td>19426.0</td>\n",
       "      <td>931.215</td>\n",
       "      <td>14205.93</td>\n",
       "      <td>43765.07</td>\n",
       "      <td>24896.17</td>\n",
       "      <td>49936.551</td>\n",
       "      <td>28499.859</td>\n",
       "      <td>1.0</td>\n",
       "    </tr>\n",
       "    <tr>\n",
       "      <th>...</th>\n",
       "      <td>...</td>\n",
       "      <td>...</td>\n",
       "      <td>...</td>\n",
       "      <td>...</td>\n",
       "      <td>...</td>\n",
       "      <td>...</td>\n",
       "      <td>...</td>\n",
       "      <td>...</td>\n",
       "      <td>...</td>\n",
       "      <td>...</td>\n",
       "      <td>...</td>\n",
       "      <td>...</td>\n",
       "      <td>...</td>\n",
       "      <td>...</td>\n",
       "    </tr>\n",
       "    <tr>\n",
       "      <th>62625</th>\n",
       "      <td>25001</td>\n",
       "      <td>13.00</td>\n",
       "      <td>53.20</td>\n",
       "      <td>0.0</td>\n",
       "      <td>400.0</td>\n",
       "      <td>12439.0</td>\n",
       "      <td>19114.0</td>\n",
       "      <td>939.758</td>\n",
       "      <td>0.00</td>\n",
       "      <td>0.00</td>\n",
       "      <td>0.00</td>\n",
       "      <td>0.000</td>\n",
       "      <td>0.000</td>\n",
       "      <td>0.0</td>\n",
       "    </tr>\n",
       "    <tr>\n",
       "      <th>62626</th>\n",
       "      <td>25002</td>\n",
       "      <td>13.06</td>\n",
       "      <td>52.81</td>\n",
       "      <td>0.0</td>\n",
       "      <td>400.0</td>\n",
       "      <td>12448.0</td>\n",
       "      <td>19155.0</td>\n",
       "      <td>939.758</td>\n",
       "      <td>0.00</td>\n",
       "      <td>0.00</td>\n",
       "      <td>0.00</td>\n",
       "      <td>0.000</td>\n",
       "      <td>0.000</td>\n",
       "      <td>0.0</td>\n",
       "    </tr>\n",
       "    <tr>\n",
       "      <th>62627</th>\n",
       "      <td>25142</td>\n",
       "      <td>11.81</td>\n",
       "      <td>50.49</td>\n",
       "      <td>31.0</td>\n",
       "      <td>445.0</td>\n",
       "      <td>12545.0</td>\n",
       "      <td>19632.0</td>\n",
       "      <td>939.810</td>\n",
       "      <td>0.00</td>\n",
       "      <td>0.00</td>\n",
       "      <td>0.00</td>\n",
       "      <td>0.001</td>\n",
       "      <td>0.000</td>\n",
       "      <td>0.0</td>\n",
       "    </tr>\n",
       "    <tr>\n",
       "      <th>62628</th>\n",
       "      <td>25143</td>\n",
       "      <td>11.69</td>\n",
       "      <td>51.08</td>\n",
       "      <td>28.0</td>\n",
       "      <td>453.0</td>\n",
       "      <td>12548.0</td>\n",
       "      <td>19631.0</td>\n",
       "      <td>939.818</td>\n",
       "      <td>0.00</td>\n",
       "      <td>0.00</td>\n",
       "      <td>0.00</td>\n",
       "      <td>0.001</td>\n",
       "      <td>0.000</td>\n",
       "      <td>0.0</td>\n",
       "    </tr>\n",
       "    <tr>\n",
       "      <th>62629</th>\n",
       "      <td>0</td>\n",
       "      <td>20.00</td>\n",
       "      <td>57.36</td>\n",
       "      <td>0.0</td>\n",
       "      <td>400.0</td>\n",
       "      <td>12306.0</td>\n",
       "      <td>18520.0</td>\n",
       "      <td>939.735</td>\n",
       "      <td>0.00</td>\n",
       "      <td>0.00</td>\n",
       "      <td>0.00</td>\n",
       "      <td>0.000</td>\n",
       "      <td>0.000</td>\n",
       "      <td>0.0</td>\n",
       "    </tr>\n",
       "  </tbody>\n",
       "</table>\n",
       "<p>62630 rows × 14 columns</p>\n",
       "</div>"
      ],
      "text/plain": [
       "       Unnamed: 0  Temperature[C]  Humidity[%]  TVOC[ppb]  eCO2[ppm]   Raw H2   \n",
       "0           50065           23.41        69.47       43.0     1120.0  13105.0  \\\n",
       "1           50064           23.00        70.28       50.0     1137.0  13094.0   \n",
       "2           50066           23.66        68.41       52.0     1141.0  13100.0   \n",
       "3           50124           25.86        62.03      546.0     1777.0  12872.0   \n",
       "4           50123           25.74        62.93      542.0     1710.0  12878.0   \n",
       "...           ...             ...          ...        ...        ...      ...   \n",
       "62625       25001           13.00        53.20        0.0      400.0  12439.0   \n",
       "62626       25002           13.06        52.81        0.0      400.0  12448.0   \n",
       "62627       25142           11.81        50.49       31.0      445.0  12545.0   \n",
       "62628       25143           11.69        51.08       28.0      453.0  12548.0   \n",
       "62629           0           20.00        57.36        0.0      400.0  12306.0   \n",
       "\n",
       "       Raw Ethanol  Pressure[hPa]     PM1.0     PM2.5     NC0.5      NC1.0   \n",
       "0          19890.0        931.239  14299.14  45432.26  21592.18  51914.680  \\\n",
       "1          19887.0        931.242  14333.69  45018.38  22959.95  51413.852   \n",
       "2          19882.0        931.251  14149.05  44786.43  21789.97  51167.711   \n",
       "3          19414.0        931.213  14318.17  44357.90  24472.12  50626.562   \n",
       "4          19426.0        931.215  14205.93  43765.07  24896.17  49936.551   \n",
       "...            ...            ...       ...       ...       ...        ...   \n",
       "62625      19114.0        939.758      0.00      0.00      0.00      0.000   \n",
       "62626      19155.0        939.758      0.00      0.00      0.00      0.000   \n",
       "62627      19632.0        939.810      0.00      0.00      0.00      0.001   \n",
       "62628      19631.0        939.818      0.00      0.00      0.00      0.001   \n",
       "62629      18520.0        939.735      0.00      0.00      0.00      0.000   \n",
       "\n",
       "           NC2.5  Fire Alarm  \n",
       "0      30026.438         1.0  \n",
       "1      29590.688         1.0  \n",
       "2      29547.281         1.0  \n",
       "3      28964.852         1.0  \n",
       "4      28499.859         1.0  \n",
       "...          ...         ...  \n",
       "62625      0.000         0.0  \n",
       "62626      0.000         0.0  \n",
       "62627      0.000         0.0  \n",
       "62628      0.000         0.0  \n",
       "62629      0.000         0.0  \n",
       "\n",
       "[62630 rows x 14 columns]"
      ]
     },
     "execution_count": 3,
     "metadata": {},
     "output_type": "execute_result"
    }
   ],
   "source": [
    "data_сlr"
   ]
  },
  {
   "cell_type": "code",
   "execution_count": 4,
   "id": "ba3d623e",
   "metadata": {},
   "outputs": [
    {
     "data": {
      "text/html": [
       "<div>\n",
       "<style scoped>\n",
       "    .dataframe tbody tr th:only-of-type {\n",
       "        vertical-align: middle;\n",
       "    }\n",
       "\n",
       "    .dataframe tbody tr th {\n",
       "        vertical-align: top;\n",
       "    }\n",
       "\n",
       "    .dataframe thead th {\n",
       "        text-align: right;\n",
       "    }\n",
       "</style>\n",
       "<table border=\"1\" class=\"dataframe\">\n",
       "  <thead>\n",
       "    <tr style=\"text-align: right;\">\n",
       "      <th></th>\n",
       "      <th>Unnamed: 0</th>\n",
       "      <th>price</th>\n",
       "      <th>area</th>\n",
       "      <th>latitude</th>\n",
       "      <th>longitude</th>\n",
       "      <th>bedrooms</th>\n",
       "      <th>bathrooms</th>\n",
       "      <th>balcony</th>\n",
       "      <th>status</th>\n",
       "      <th>neworold</th>\n",
       "      <th>parking</th>\n",
       "      <th>furnished_status</th>\n",
       "      <th>lift</th>\n",
       "      <th>type_of_building_individual house</th>\n",
       "    </tr>\n",
       "  </thead>\n",
       "  <tbody>\n",
       "    <tr>\n",
       "      <th>0</th>\n",
       "      <td>0</td>\n",
       "      <td>22400000.0</td>\n",
       "      <td>629.0</td>\n",
       "      <td>19.032800</td>\n",
       "      <td>72.896357</td>\n",
       "      <td>2.0</td>\n",
       "      <td>2.0</td>\n",
       "      <td>0.0</td>\n",
       "      <td>0.0</td>\n",
       "      <td>1.0</td>\n",
       "      <td>0.0</td>\n",
       "      <td>1.0</td>\n",
       "      <td>0.0</td>\n",
       "      <td>0.0</td>\n",
       "    </tr>\n",
       "    <tr>\n",
       "      <th>1</th>\n",
       "      <td>1</td>\n",
       "      <td>35000000.0</td>\n",
       "      <td>974.0</td>\n",
       "      <td>19.032800</td>\n",
       "      <td>72.896357</td>\n",
       "      <td>3.0</td>\n",
       "      <td>2.0</td>\n",
       "      <td>0.0</td>\n",
       "      <td>0.0</td>\n",
       "      <td>1.0</td>\n",
       "      <td>0.0</td>\n",
       "      <td>1.0</td>\n",
       "      <td>0.0</td>\n",
       "      <td>0.0</td>\n",
       "    </tr>\n",
       "    <tr>\n",
       "      <th>2</th>\n",
       "      <td>2</td>\n",
       "      <td>31700000.0</td>\n",
       "      <td>968.0</td>\n",
       "      <td>19.085600</td>\n",
       "      <td>72.909277</td>\n",
       "      <td>3.0</td>\n",
       "      <td>3.0</td>\n",
       "      <td>0.0</td>\n",
       "      <td>0.0</td>\n",
       "      <td>1.0</td>\n",
       "      <td>0.0</td>\n",
       "      <td>1.0</td>\n",
       "      <td>0.0</td>\n",
       "      <td>0.0</td>\n",
       "    </tr>\n",
       "    <tr>\n",
       "      <th>3</th>\n",
       "      <td>3</td>\n",
       "      <td>18700000.0</td>\n",
       "      <td>629.0</td>\n",
       "      <td>19.155756</td>\n",
       "      <td>72.846862</td>\n",
       "      <td>2.0</td>\n",
       "      <td>2.0</td>\n",
       "      <td>2.0</td>\n",
       "      <td>1.0</td>\n",
       "      <td>1.0</td>\n",
       "      <td>2.0</td>\n",
       "      <td>1.0</td>\n",
       "      <td>2.0</td>\n",
       "      <td>0.0</td>\n",
       "    </tr>\n",
       "    <tr>\n",
       "      <th>4</th>\n",
       "      <td>4</td>\n",
       "      <td>13500000.0</td>\n",
       "      <td>1090.0</td>\n",
       "      <td>19.177555</td>\n",
       "      <td>72.849887</td>\n",
       "      <td>2.0</td>\n",
       "      <td>2.0</td>\n",
       "      <td>0.0</td>\n",
       "      <td>1.0</td>\n",
       "      <td>1.0</td>\n",
       "      <td>0.0</td>\n",
       "      <td>0.0</td>\n",
       "      <td>0.0</td>\n",
       "      <td>0.0</td>\n",
       "    </tr>\n",
       "    <tr>\n",
       "      <th>...</th>\n",
       "      <td>...</td>\n",
       "      <td>...</td>\n",
       "      <td>...</td>\n",
       "      <td>...</td>\n",
       "      <td>...</td>\n",
       "      <td>...</td>\n",
       "      <td>...</td>\n",
       "      <td>...</td>\n",
       "      <td>...</td>\n",
       "      <td>...</td>\n",
       "      <td>...</td>\n",
       "      <td>...</td>\n",
       "      <td>...</td>\n",
       "      <td>...</td>\n",
       "    </tr>\n",
       "    <tr>\n",
       "      <th>6233</th>\n",
       "      <td>6250</td>\n",
       "      <td>19500000.0</td>\n",
       "      <td>810.0</td>\n",
       "      <td>19.138320</td>\n",
       "      <td>72.810020</td>\n",
       "      <td>2.0</td>\n",
       "      <td>2.0</td>\n",
       "      <td>0.0</td>\n",
       "      <td>1.0</td>\n",
       "      <td>0.0</td>\n",
       "      <td>0.0</td>\n",
       "      <td>1.0</td>\n",
       "      <td>0.0</td>\n",
       "      <td>0.0</td>\n",
       "    </tr>\n",
       "    <tr>\n",
       "      <th>6234</th>\n",
       "      <td>6251</td>\n",
       "      <td>22000000.0</td>\n",
       "      <td>1400.0</td>\n",
       "      <td>19.221920</td>\n",
       "      <td>72.854250</td>\n",
       "      <td>3.0</td>\n",
       "      <td>3.0</td>\n",
       "      <td>1.0</td>\n",
       "      <td>1.0</td>\n",
       "      <td>0.0</td>\n",
       "      <td>1.0</td>\n",
       "      <td>0.0</td>\n",
       "      <td>1.0</td>\n",
       "      <td>0.0</td>\n",
       "    </tr>\n",
       "    <tr>\n",
       "      <th>6235</th>\n",
       "      <td>6252</td>\n",
       "      <td>20000000.0</td>\n",
       "      <td>750.0</td>\n",
       "      <td>19.144320</td>\n",
       "      <td>72.824111</td>\n",
       "      <td>2.0</td>\n",
       "      <td>2.0</td>\n",
       "      <td>0.0</td>\n",
       "      <td>1.0</td>\n",
       "      <td>0.0</td>\n",
       "      <td>0.0</td>\n",
       "      <td>1.0</td>\n",
       "      <td>0.0</td>\n",
       "      <td>0.0</td>\n",
       "    </tr>\n",
       "    <tr>\n",
       "      <th>6236</th>\n",
       "      <td>6253</td>\n",
       "      <td>11000000.0</td>\n",
       "      <td>700.0</td>\n",
       "      <td>19.047201</td>\n",
       "      <td>72.872225</td>\n",
       "      <td>2.0</td>\n",
       "      <td>2.0</td>\n",
       "      <td>0.0</td>\n",
       "      <td>1.0</td>\n",
       "      <td>0.0</td>\n",
       "      <td>0.0</td>\n",
       "      <td>2.0</td>\n",
       "      <td>0.0</td>\n",
       "      <td>0.0</td>\n",
       "    </tr>\n",
       "    <tr>\n",
       "      <th>6237</th>\n",
       "      <td>6254</td>\n",
       "      <td>15000000.0</td>\n",
       "      <td>900.0</td>\n",
       "      <td>19.168818</td>\n",
       "      <td>72.936375</td>\n",
       "      <td>2.0</td>\n",
       "      <td>2.0</td>\n",
       "      <td>0.0</td>\n",
       "      <td>1.0</td>\n",
       "      <td>0.0</td>\n",
       "      <td>0.0</td>\n",
       "      <td>1.0</td>\n",
       "      <td>0.0</td>\n",
       "      <td>0.0</td>\n",
       "    </tr>\n",
       "  </tbody>\n",
       "</table>\n",
       "<p>6238 rows × 14 columns</p>\n",
       "</div>"
      ],
      "text/plain": [
       "      Unnamed: 0       price    area   latitude  longitude  bedrooms   \n",
       "0              0  22400000.0   629.0  19.032800  72.896357       2.0  \\\n",
       "1              1  35000000.0   974.0  19.032800  72.896357       3.0   \n",
       "2              2  31700000.0   968.0  19.085600  72.909277       3.0   \n",
       "3              3  18700000.0   629.0  19.155756  72.846862       2.0   \n",
       "4              4  13500000.0  1090.0  19.177555  72.849887       2.0   \n",
       "...          ...         ...     ...        ...        ...       ...   \n",
       "6233        6250  19500000.0   810.0  19.138320  72.810020       2.0   \n",
       "6234        6251  22000000.0  1400.0  19.221920  72.854250       3.0   \n",
       "6235        6252  20000000.0   750.0  19.144320  72.824111       2.0   \n",
       "6236        6253  11000000.0   700.0  19.047201  72.872225       2.0   \n",
       "6237        6254  15000000.0   900.0  19.168818  72.936375       2.0   \n",
       "\n",
       "      bathrooms  balcony  status  neworold  parking  furnished_status  lift   \n",
       "0           2.0      0.0     0.0       1.0      0.0               1.0   0.0  \\\n",
       "1           2.0      0.0     0.0       1.0      0.0               1.0   0.0   \n",
       "2           3.0      0.0     0.0       1.0      0.0               1.0   0.0   \n",
       "3           2.0      2.0     1.0       1.0      2.0               1.0   2.0   \n",
       "4           2.0      0.0     1.0       1.0      0.0               0.0   0.0   \n",
       "...         ...      ...     ...       ...      ...               ...   ...   \n",
       "6233        2.0      0.0     1.0       0.0      0.0               1.0   0.0   \n",
       "6234        3.0      1.0     1.0       0.0      1.0               0.0   1.0   \n",
       "6235        2.0      0.0     1.0       0.0      0.0               1.0   0.0   \n",
       "6236        2.0      0.0     1.0       0.0      0.0               2.0   0.0   \n",
       "6237        2.0      0.0     1.0       0.0      0.0               1.0   0.0   \n",
       "\n",
       "      type_of_building_individual house  \n",
       "0                                   0.0  \n",
       "1                                   0.0  \n",
       "2                                   0.0  \n",
       "3                                   0.0  \n",
       "4                                   0.0  \n",
       "...                                 ...  \n",
       "6233                                0.0  \n",
       "6234                                0.0  \n",
       "6235                                0.0  \n",
       "6236                                0.0  \n",
       "6237                                0.0  \n",
       "\n",
       "[6238 rows x 14 columns]"
      ]
     },
     "execution_count": 4,
     "metadata": {},
     "output_type": "execute_result"
    }
   ],
   "source": [
    "data_reg"
   ]
  },
  {
   "cell_type": "markdown",
   "id": "55c7d944",
   "metadata": {},
   "source": [
    "## Предобработка данных таблицы для регрессии"
   ]
  },
  {
   "cell_type": "code",
   "execution_count": 5,
   "id": "920b5779",
   "metadata": {},
   "outputs": [
    {
     "data": {
      "text/html": [
       "<div>\n",
       "<style scoped>\n",
       "    .dataframe tbody tr th:only-of-type {\n",
       "        vertical-align: middle;\n",
       "    }\n",
       "\n",
       "    .dataframe tbody tr th {\n",
       "        vertical-align: top;\n",
       "    }\n",
       "\n",
       "    .dataframe thead th {\n",
       "        text-align: right;\n",
       "    }\n",
       "</style>\n",
       "<table border=\"1\" class=\"dataframe\">\n",
       "  <thead>\n",
       "    <tr style=\"text-align: right;\">\n",
       "      <th></th>\n",
       "      <th>price</th>\n",
       "      <th>area</th>\n",
       "      <th>latitude</th>\n",
       "      <th>longitude</th>\n",
       "      <th>bedrooms</th>\n",
       "      <th>bathrooms</th>\n",
       "      <th>balcony</th>\n",
       "      <th>status</th>\n",
       "      <th>neworold</th>\n",
       "      <th>parking</th>\n",
       "      <th>furnished_status</th>\n",
       "      <th>lift</th>\n",
       "      <th>type_of_building_individual house</th>\n",
       "    </tr>\n",
       "  </thead>\n",
       "  <tbody>\n",
       "    <tr>\n",
       "      <th>0</th>\n",
       "      <td>22400000.0</td>\n",
       "      <td>629.0</td>\n",
       "      <td>19.032800</td>\n",
       "      <td>72.896357</td>\n",
       "      <td>2.0</td>\n",
       "      <td>2.0</td>\n",
       "      <td>0.0</td>\n",
       "      <td>0.0</td>\n",
       "      <td>1.0</td>\n",
       "      <td>0.0</td>\n",
       "      <td>1.0</td>\n",
       "      <td>0.0</td>\n",
       "      <td>0.0</td>\n",
       "    </tr>\n",
       "    <tr>\n",
       "      <th>1</th>\n",
       "      <td>35000000.0</td>\n",
       "      <td>974.0</td>\n",
       "      <td>19.032800</td>\n",
       "      <td>72.896357</td>\n",
       "      <td>3.0</td>\n",
       "      <td>2.0</td>\n",
       "      <td>0.0</td>\n",
       "      <td>0.0</td>\n",
       "      <td>1.0</td>\n",
       "      <td>0.0</td>\n",
       "      <td>1.0</td>\n",
       "      <td>0.0</td>\n",
       "      <td>0.0</td>\n",
       "    </tr>\n",
       "    <tr>\n",
       "      <th>2</th>\n",
       "      <td>31700000.0</td>\n",
       "      <td>968.0</td>\n",
       "      <td>19.085600</td>\n",
       "      <td>72.909277</td>\n",
       "      <td>3.0</td>\n",
       "      <td>3.0</td>\n",
       "      <td>0.0</td>\n",
       "      <td>0.0</td>\n",
       "      <td>1.0</td>\n",
       "      <td>0.0</td>\n",
       "      <td>1.0</td>\n",
       "      <td>0.0</td>\n",
       "      <td>0.0</td>\n",
       "    </tr>\n",
       "    <tr>\n",
       "      <th>3</th>\n",
       "      <td>18700000.0</td>\n",
       "      <td>629.0</td>\n",
       "      <td>19.155756</td>\n",
       "      <td>72.846862</td>\n",
       "      <td>2.0</td>\n",
       "      <td>2.0</td>\n",
       "      <td>2.0</td>\n",
       "      <td>1.0</td>\n",
       "      <td>1.0</td>\n",
       "      <td>2.0</td>\n",
       "      <td>1.0</td>\n",
       "      <td>2.0</td>\n",
       "      <td>0.0</td>\n",
       "    </tr>\n",
       "    <tr>\n",
       "      <th>4</th>\n",
       "      <td>13500000.0</td>\n",
       "      <td>1090.0</td>\n",
       "      <td>19.177555</td>\n",
       "      <td>72.849887</td>\n",
       "      <td>2.0</td>\n",
       "      <td>2.0</td>\n",
       "      <td>0.0</td>\n",
       "      <td>1.0</td>\n",
       "      <td>1.0</td>\n",
       "      <td>0.0</td>\n",
       "      <td>0.0</td>\n",
       "      <td>0.0</td>\n",
       "      <td>0.0</td>\n",
       "    </tr>\n",
       "    <tr>\n",
       "      <th>...</th>\n",
       "      <td>...</td>\n",
       "      <td>...</td>\n",
       "      <td>...</td>\n",
       "      <td>...</td>\n",
       "      <td>...</td>\n",
       "      <td>...</td>\n",
       "      <td>...</td>\n",
       "      <td>...</td>\n",
       "      <td>...</td>\n",
       "      <td>...</td>\n",
       "      <td>...</td>\n",
       "      <td>...</td>\n",
       "      <td>...</td>\n",
       "    </tr>\n",
       "    <tr>\n",
       "      <th>6233</th>\n",
       "      <td>19500000.0</td>\n",
       "      <td>810.0</td>\n",
       "      <td>19.138320</td>\n",
       "      <td>72.810020</td>\n",
       "      <td>2.0</td>\n",
       "      <td>2.0</td>\n",
       "      <td>0.0</td>\n",
       "      <td>1.0</td>\n",
       "      <td>0.0</td>\n",
       "      <td>0.0</td>\n",
       "      <td>1.0</td>\n",
       "      <td>0.0</td>\n",
       "      <td>0.0</td>\n",
       "    </tr>\n",
       "    <tr>\n",
       "      <th>6234</th>\n",
       "      <td>22000000.0</td>\n",
       "      <td>1400.0</td>\n",
       "      <td>19.221920</td>\n",
       "      <td>72.854250</td>\n",
       "      <td>3.0</td>\n",
       "      <td>3.0</td>\n",
       "      <td>1.0</td>\n",
       "      <td>1.0</td>\n",
       "      <td>0.0</td>\n",
       "      <td>1.0</td>\n",
       "      <td>0.0</td>\n",
       "      <td>1.0</td>\n",
       "      <td>0.0</td>\n",
       "    </tr>\n",
       "    <tr>\n",
       "      <th>6235</th>\n",
       "      <td>20000000.0</td>\n",
       "      <td>750.0</td>\n",
       "      <td>19.144320</td>\n",
       "      <td>72.824111</td>\n",
       "      <td>2.0</td>\n",
       "      <td>2.0</td>\n",
       "      <td>0.0</td>\n",
       "      <td>1.0</td>\n",
       "      <td>0.0</td>\n",
       "      <td>0.0</td>\n",
       "      <td>1.0</td>\n",
       "      <td>0.0</td>\n",
       "      <td>0.0</td>\n",
       "    </tr>\n",
       "    <tr>\n",
       "      <th>6236</th>\n",
       "      <td>11000000.0</td>\n",
       "      <td>700.0</td>\n",
       "      <td>19.047201</td>\n",
       "      <td>72.872225</td>\n",
       "      <td>2.0</td>\n",
       "      <td>2.0</td>\n",
       "      <td>0.0</td>\n",
       "      <td>1.0</td>\n",
       "      <td>0.0</td>\n",
       "      <td>0.0</td>\n",
       "      <td>2.0</td>\n",
       "      <td>0.0</td>\n",
       "      <td>0.0</td>\n",
       "    </tr>\n",
       "    <tr>\n",
       "      <th>6237</th>\n",
       "      <td>15000000.0</td>\n",
       "      <td>900.0</td>\n",
       "      <td>19.168818</td>\n",
       "      <td>72.936375</td>\n",
       "      <td>2.0</td>\n",
       "      <td>2.0</td>\n",
       "      <td>0.0</td>\n",
       "      <td>1.0</td>\n",
       "      <td>0.0</td>\n",
       "      <td>0.0</td>\n",
       "      <td>1.0</td>\n",
       "      <td>0.0</td>\n",
       "      <td>0.0</td>\n",
       "    </tr>\n",
       "  </tbody>\n",
       "</table>\n",
       "<p>6238 rows × 13 columns</p>\n",
       "</div>"
      ],
      "text/plain": [
       "           price    area   latitude  longitude  bedrooms  bathrooms  balcony   \n",
       "0     22400000.0   629.0  19.032800  72.896357       2.0        2.0      0.0  \\\n",
       "1     35000000.0   974.0  19.032800  72.896357       3.0        2.0      0.0   \n",
       "2     31700000.0   968.0  19.085600  72.909277       3.0        3.0      0.0   \n",
       "3     18700000.0   629.0  19.155756  72.846862       2.0        2.0      2.0   \n",
       "4     13500000.0  1090.0  19.177555  72.849887       2.0        2.0      0.0   \n",
       "...          ...     ...        ...        ...       ...        ...      ...   \n",
       "6233  19500000.0   810.0  19.138320  72.810020       2.0        2.0      0.0   \n",
       "6234  22000000.0  1400.0  19.221920  72.854250       3.0        3.0      1.0   \n",
       "6235  20000000.0   750.0  19.144320  72.824111       2.0        2.0      0.0   \n",
       "6236  11000000.0   700.0  19.047201  72.872225       2.0        2.0      0.0   \n",
       "6237  15000000.0   900.0  19.168818  72.936375       2.0        2.0      0.0   \n",
       "\n",
       "      status  neworold  parking  furnished_status  lift   \n",
       "0        0.0       1.0      0.0               1.0   0.0  \\\n",
       "1        0.0       1.0      0.0               1.0   0.0   \n",
       "2        0.0       1.0      0.0               1.0   0.0   \n",
       "3        1.0       1.0      2.0               1.0   2.0   \n",
       "4        1.0       1.0      0.0               0.0   0.0   \n",
       "...      ...       ...      ...               ...   ...   \n",
       "6233     1.0       0.0      0.0               1.0   0.0   \n",
       "6234     1.0       0.0      1.0               0.0   1.0   \n",
       "6235     1.0       0.0      0.0               1.0   0.0   \n",
       "6236     1.0       0.0      0.0               2.0   0.0   \n",
       "6237     1.0       0.0      0.0               1.0   0.0   \n",
       "\n",
       "      type_of_building_individual house  \n",
       "0                                   0.0  \n",
       "1                                   0.0  \n",
       "2                                   0.0  \n",
       "3                                   0.0  \n",
       "4                                   0.0  \n",
       "...                                 ...  \n",
       "6233                                0.0  \n",
       "6234                                0.0  \n",
       "6235                                0.0  \n",
       "6236                                0.0  \n",
       "6237                                0.0  \n",
       "\n",
       "[6238 rows x 13 columns]"
      ]
     },
     "execution_count": 5,
     "metadata": {},
     "output_type": "execute_result"
    }
   ],
   "source": [
    "# 1. Выполним анализ столбцов таблицы для регрессии.\n",
    "# 1.1 Посмотрим список всех столбцов таблицы. Удалим из таблицы поля,\n",
    "#содержащие уникальные значения (похожие на id) и малоинформативные\n",
    "\n",
    "data_reg.drop(columns =['Unnamed: 0'], axis=1, inplace=True)\n",
    "data_reg"
   ]
  },
  {
   "cell_type": "code",
   "execution_count": 6,
   "id": "a7c8c8ee",
   "metadata": {},
   "outputs": [
    {
     "name": "stdout",
     "output_type": "stream",
     "text": [
      "<class 'pandas.core.frame.DataFrame'>\n",
      "RangeIndex: 6238 entries, 0 to 6237\n",
      "Data columns (total 13 columns):\n",
      " #   Column                             Non-Null Count  Dtype  \n",
      "---  ------                             --------------  -----  \n",
      " 0   price                              6238 non-null   float64\n",
      " 1   area                               6238 non-null   float64\n",
      " 2   latitude                           6238 non-null   float64\n",
      " 3   longitude                          6238 non-null   float64\n",
      " 4   bedrooms                           6238 non-null   float64\n",
      " 5   bathrooms                          6238 non-null   float64\n",
      " 6   balcony                            6238 non-null   float64\n",
      " 7   status                             6238 non-null   float64\n",
      " 8   neworold                           6238 non-null   float64\n",
      " 9   parking                            6238 non-null   float64\n",
      " 10  furnished_status                   6238 non-null   float64\n",
      " 11  lift                               6238 non-null   float64\n",
      " 12  type_of_building_individual house  6238 non-null   float64\n",
      "dtypes: float64(13)\n",
      "memory usage: 633.7 KB\n"
     ]
    }
   ],
   "source": [
    "data_reg.info()"
   ]
  },
  {
   "cell_type": "markdown",
   "id": "7bc4bd8b",
   "metadata": {},
   "source": [
    "### Выделение целевого признака и предикторов"
   ]
  },
  {
   "cell_type": "code",
   "execution_count": 7,
   "id": "d1cee623",
   "metadata": {},
   "outputs": [],
   "source": [
    "y_reg = data_reg[\"price\"]  #целевой признак\n",
    "X_reg = data_reg.drop([\"price\"], axis=1) #предикторы"
   ]
  },
  {
   "cell_type": "code",
   "execution_count": 8,
   "id": "181c0ffc",
   "metadata": {},
   "outputs": [],
   "source": [
    "from sklearn.metrics import mean_squared_error, mean_absolute_error, mean_absolute_percentage_error\n",
    "def test2(X, y):\n",
    "    X_train, X_test, y_train, y_test = train_test_split(X, y, test_size=0.15, shuffle=False)\n",
    "    bag = BaggingRegressor().fit(X_train, y_train)\n",
    "    print(mean_absolute_error(y_test, bag.predict(X_test)))\n",
    "    print(r2_score(y_test, bag.predict(X_test)))"
   ]
  },
  {
   "cell_type": "code",
   "execution_count": 9,
   "id": "5760fc78",
   "metadata": {},
   "outputs": [],
   "source": [
    "np.random.seed(42)"
   ]
  },
  {
   "cell_type": "code",
   "execution_count": 10,
   "id": "b373cc15",
   "metadata": {},
   "outputs": [
    {
     "name": "stdout",
     "output_type": "stream",
     "text": [
      "8107179.691951566\n",
      "0.7457913784841461\n"
     ]
    }
   ],
   "source": [
    "test2(X_reg, y_reg);"
   ]
  },
  {
   "cell_type": "code",
   "execution_count": 11,
   "id": "31ee4756",
   "metadata": {},
   "outputs": [
    {
     "data": {
      "text/html": [
       "<div>\n",
       "<style scoped>\n",
       "    .dataframe tbody tr th:only-of-type {\n",
       "        vertical-align: middle;\n",
       "    }\n",
       "\n",
       "    .dataframe tbody tr th {\n",
       "        vertical-align: top;\n",
       "    }\n",
       "\n",
       "    .dataframe thead th {\n",
       "        text-align: right;\n",
       "    }\n",
       "</style>\n",
       "<table border=\"1\" class=\"dataframe\">\n",
       "  <thead>\n",
       "    <tr style=\"text-align: right;\">\n",
       "      <th></th>\n",
       "      <th>area</th>\n",
       "      <th>latitude</th>\n",
       "      <th>longitude</th>\n",
       "      <th>bedrooms</th>\n",
       "      <th>bathrooms</th>\n",
       "      <th>balcony</th>\n",
       "      <th>status</th>\n",
       "      <th>neworold</th>\n",
       "      <th>parking</th>\n",
       "      <th>furnished_status</th>\n",
       "      <th>lift</th>\n",
       "      <th>type_of_building_individual house</th>\n",
       "    </tr>\n",
       "  </thead>\n",
       "  <tbody>\n",
       "    <tr>\n",
       "      <th>count</th>\n",
       "      <td>6238.000000</td>\n",
       "      <td>6238.000000</td>\n",
       "      <td>6238.000000</td>\n",
       "      <td>6238.000000</td>\n",
       "      <td>6238.000000</td>\n",
       "      <td>6238.000000</td>\n",
       "      <td>6238.000000</td>\n",
       "      <td>6238.000000</td>\n",
       "      <td>6238.000000</td>\n",
       "      <td>6238.000000</td>\n",
       "      <td>6238.000000</td>\n",
       "      <td>6238.000000</td>\n",
       "    </tr>\n",
       "    <tr>\n",
       "      <th>mean</th>\n",
       "      <td>1185.556749</td>\n",
       "      <td>19.156725</td>\n",
       "      <td>72.868645</td>\n",
       "      <td>2.452228</td>\n",
       "      <td>2.425457</td>\n",
       "      <td>0.822219</td>\n",
       "      <td>0.999519</td>\n",
       "      <td>0.118307</td>\n",
       "      <td>0.822219</td>\n",
       "      <td>0.941648</td>\n",
       "      <td>0.822219</td>\n",
       "      <td>0.068291</td>\n",
       "    </tr>\n",
       "    <tr>\n",
       "      <th>std</th>\n",
       "      <td>637.472627</td>\n",
       "      <td>0.109515</td>\n",
       "      <td>0.058678</td>\n",
       "      <td>0.750102</td>\n",
       "      <td>0.763194</td>\n",
       "      <td>1.291916</td>\n",
       "      <td>0.021926</td>\n",
       "      <td>0.322997</td>\n",
       "      <td>1.291916</td>\n",
       "      <td>0.617831</td>\n",
       "      <td>1.291916</td>\n",
       "      <td>0.252265</td>\n",
       "    </tr>\n",
       "    <tr>\n",
       "      <th>min</th>\n",
       "      <td>503.000000</td>\n",
       "      <td>18.873713</td>\n",
       "      <td>72.754080</td>\n",
       "      <td>2.000000</td>\n",
       "      <td>0.000000</td>\n",
       "      <td>0.000000</td>\n",
       "      <td>0.000000</td>\n",
       "      <td>0.000000</td>\n",
       "      <td>0.000000</td>\n",
       "      <td>0.000000</td>\n",
       "      <td>0.000000</td>\n",
       "      <td>0.000000</td>\n",
       "    </tr>\n",
       "    <tr>\n",
       "      <th>25%</th>\n",
       "      <td>846.000000</td>\n",
       "      <td>19.081509</td>\n",
       "      <td>72.832930</td>\n",
       "      <td>2.000000</td>\n",
       "      <td>2.000000</td>\n",
       "      <td>0.000000</td>\n",
       "      <td>1.000000</td>\n",
       "      <td>0.000000</td>\n",
       "      <td>0.000000</td>\n",
       "      <td>1.000000</td>\n",
       "      <td>0.000000</td>\n",
       "      <td>0.000000</td>\n",
       "    </tr>\n",
       "    <tr>\n",
       "      <th>50%</th>\n",
       "      <td>1000.000000</td>\n",
       "      <td>19.147240</td>\n",
       "      <td>72.858017</td>\n",
       "      <td>2.000000</td>\n",
       "      <td>2.000000</td>\n",
       "      <td>0.000000</td>\n",
       "      <td>1.000000</td>\n",
       "      <td>0.000000</td>\n",
       "      <td>0.000000</td>\n",
       "      <td>1.000000</td>\n",
       "      <td>0.000000</td>\n",
       "      <td>0.000000</td>\n",
       "    </tr>\n",
       "    <tr>\n",
       "      <th>75%</th>\n",
       "      <td>1300.000000</td>\n",
       "      <td>19.213054</td>\n",
       "      <td>72.884691</td>\n",
       "      <td>3.000000</td>\n",
       "      <td>3.000000</td>\n",
       "      <td>1.000000</td>\n",
       "      <td>1.000000</td>\n",
       "      <td>0.000000</td>\n",
       "      <td>1.000000</td>\n",
       "      <td>1.000000</td>\n",
       "      <td>1.000000</td>\n",
       "      <td>0.000000</td>\n",
       "    </tr>\n",
       "    <tr>\n",
       "      <th>max</th>\n",
       "      <td>8000.000000</td>\n",
       "      <td>19.476239</td>\n",
       "      <td>73.197823</td>\n",
       "      <td>10.000000</td>\n",
       "      <td>10.000000</td>\n",
       "      <td>8.000000</td>\n",
       "      <td>1.000000</td>\n",
       "      <td>1.000000</td>\n",
       "      <td>8.000000</td>\n",
       "      <td>2.000000</td>\n",
       "      <td>8.000000</td>\n",
       "      <td>1.000000</td>\n",
       "    </tr>\n",
       "  </tbody>\n",
       "</table>\n",
       "</div>"
      ],
      "text/plain": [
       "              area     latitude    longitude     bedrooms    bathrooms   \n",
       "count  6238.000000  6238.000000  6238.000000  6238.000000  6238.000000  \\\n",
       "mean   1185.556749    19.156725    72.868645     2.452228     2.425457   \n",
       "std     637.472627     0.109515     0.058678     0.750102     0.763194   \n",
       "min     503.000000    18.873713    72.754080     2.000000     0.000000   \n",
       "25%     846.000000    19.081509    72.832930     2.000000     2.000000   \n",
       "50%    1000.000000    19.147240    72.858017     2.000000     2.000000   \n",
       "75%    1300.000000    19.213054    72.884691     3.000000     3.000000   \n",
       "max    8000.000000    19.476239    73.197823    10.000000    10.000000   \n",
       "\n",
       "           balcony       status     neworold      parking  furnished_status   \n",
       "count  6238.000000  6238.000000  6238.000000  6238.000000       6238.000000  \\\n",
       "mean      0.822219     0.999519     0.118307     0.822219          0.941648   \n",
       "std       1.291916     0.021926     0.322997     1.291916          0.617831   \n",
       "min       0.000000     0.000000     0.000000     0.000000          0.000000   \n",
       "25%       0.000000     1.000000     0.000000     0.000000          1.000000   \n",
       "50%       0.000000     1.000000     0.000000     0.000000          1.000000   \n",
       "75%       1.000000     1.000000     0.000000     1.000000          1.000000   \n",
       "max       8.000000     1.000000     1.000000     8.000000          2.000000   \n",
       "\n",
       "              lift  type_of_building_individual house  \n",
       "count  6238.000000                        6238.000000  \n",
       "mean      0.822219                           0.068291  \n",
       "std       1.291916                           0.252265  \n",
       "min       0.000000                           0.000000  \n",
       "25%       0.000000                           0.000000  \n",
       "50%       0.000000                           0.000000  \n",
       "75%       1.000000                           0.000000  \n",
       "max       8.000000                           1.000000  "
      ]
     },
     "execution_count": 11,
     "metadata": {},
     "output_type": "execute_result"
    }
   ],
   "source": [
    "X_reg.describe()"
   ]
  },
  {
   "cell_type": "markdown",
   "id": "45725a2c",
   "metadata": {},
   "source": [
    "## Понижение размерности для регрессии"
   ]
  },
  {
   "cell_type": "markdown",
   "id": "e83ee166",
   "metadata": {},
   "source": [
    "### VarianceThreshold"
   ]
  },
  {
   "cell_type": "code",
   "execution_count": 12,
   "id": "21720c8f",
   "metadata": {},
   "outputs": [
    {
     "data": {
      "text/plain": [
       "(6238, 1)"
      ]
     },
     "execution_count": 12,
     "metadata": {},
     "output_type": "execute_result"
    }
   ],
   "source": [
    "from sklearn.feature_selection import VarianceThreshold\n",
    "# будут отобраны только те признаки, у которых дисперсия выше\n",
    "vt_rg = VarianceThreshold(2)\n",
    "X_vt_rg = vt_rg.fit_transform(X_reg)\n",
    "X_vt_rg.shape"
   ]
  },
  {
   "cell_type": "code",
   "execution_count": 13,
   "id": "a99aaa74",
   "metadata": {},
   "outputs": [
    {
     "data": {
      "text/html": [
       "<div>\n",
       "<style scoped>\n",
       "    .dataframe tbody tr th:only-of-type {\n",
       "        vertical-align: middle;\n",
       "    }\n",
       "\n",
       "    .dataframe tbody tr th {\n",
       "        vertical-align: top;\n",
       "    }\n",
       "\n",
       "    .dataframe thead th {\n",
       "        text-align: right;\n",
       "    }\n",
       "</style>\n",
       "<table border=\"1\" class=\"dataframe\">\n",
       "  <thead>\n",
       "    <tr style=\"text-align: right;\">\n",
       "      <th></th>\n",
       "      <th>area</th>\n",
       "    </tr>\n",
       "  </thead>\n",
       "  <tbody>\n",
       "    <tr>\n",
       "      <th>0</th>\n",
       "      <td>629.0</td>\n",
       "    </tr>\n",
       "    <tr>\n",
       "      <th>1</th>\n",
       "      <td>974.0</td>\n",
       "    </tr>\n",
       "    <tr>\n",
       "      <th>2</th>\n",
       "      <td>968.0</td>\n",
       "    </tr>\n",
       "    <tr>\n",
       "      <th>3</th>\n",
       "      <td>629.0</td>\n",
       "    </tr>\n",
       "    <tr>\n",
       "      <th>4</th>\n",
       "      <td>1090.0</td>\n",
       "    </tr>\n",
       "  </tbody>\n",
       "</table>\n",
       "</div>"
      ],
      "text/plain": [
       "     area\n",
       "0   629.0\n",
       "1   974.0\n",
       "2   968.0\n",
       "3   629.0\n",
       "4  1090.0"
      ]
     },
     "execution_count": 13,
     "metadata": {},
     "output_type": "execute_result"
    }
   ],
   "source": [
    "X_vt_rg = pd.DataFrame(X_vt_rg, columns=vt_rg.get_feature_names_out())\n",
    "X_vt_rg.head()"
   ]
  },
  {
   "cell_type": "code",
   "execution_count": 14,
   "id": "7c4b0a6b",
   "metadata": {},
   "outputs": [
    {
     "name": "stdout",
     "output_type": "stream",
     "text": [
      "13471935.351531623\n",
      "0.33096361892426396\n"
     ]
    }
   ],
   "source": [
    "test2(X_vt_rg, y_reg)"
   ]
  },
  {
   "cell_type": "code",
   "execution_count": 15,
   "id": "96d96623",
   "metadata": {},
   "outputs": [
    {
     "data": {
      "text/html": [
       "<div>\n",
       "<style scoped>\n",
       "    .dataframe tbody tr th:only-of-type {\n",
       "        vertical-align: middle;\n",
       "    }\n",
       "\n",
       "    .dataframe tbody tr th {\n",
       "        vertical-align: top;\n",
       "    }\n",
       "\n",
       "    .dataframe thead th {\n",
       "        text-align: right;\n",
       "    }\n",
       "</style>\n",
       "<table border=\"1\" class=\"dataframe\">\n",
       "  <thead>\n",
       "    <tr style=\"text-align: right;\">\n",
       "      <th></th>\n",
       "      <th>area</th>\n",
       "      <th>latitude</th>\n",
       "      <th>longitude</th>\n",
       "      <th>bedrooms</th>\n",
       "      <th>bathrooms</th>\n",
       "      <th>balcony</th>\n",
       "      <th>status</th>\n",
       "      <th>neworold</th>\n",
       "      <th>parking</th>\n",
       "      <th>furnished_status</th>\n",
       "      <th>lift</th>\n",
       "      <th>type_of_building_individual house</th>\n",
       "    </tr>\n",
       "  </thead>\n",
       "  <tbody>\n",
       "    <tr>\n",
       "      <th>0</th>\n",
       "      <td>-0.873138</td>\n",
       "      <td>-1.131673</td>\n",
       "      <td>0.472316</td>\n",
       "      <td>-0.602938</td>\n",
       "      <td>-0.557513</td>\n",
       "      <td>-0.636485</td>\n",
       "      <td>-45.588741</td>\n",
       "      <td>2.72994</td>\n",
       "      <td>-0.636485</td>\n",
       "      <td>0.094454</td>\n",
       "      <td>-0.636485</td>\n",
       "      <td>-0.270733</td>\n",
       "    </tr>\n",
       "    <tr>\n",
       "      <th>1</th>\n",
       "      <td>-0.331895</td>\n",
       "      <td>-1.131673</td>\n",
       "      <td>0.472316</td>\n",
       "      <td>0.730322</td>\n",
       "      <td>-0.557513</td>\n",
       "      <td>-0.636485</td>\n",
       "      <td>-45.588741</td>\n",
       "      <td>2.72994</td>\n",
       "      <td>-0.636485</td>\n",
       "      <td>0.094454</td>\n",
       "      <td>-0.636485</td>\n",
       "      <td>-0.270733</td>\n",
       "    </tr>\n",
       "    <tr>\n",
       "      <th>2</th>\n",
       "      <td>-0.341308</td>\n",
       "      <td>-0.649506</td>\n",
       "      <td>0.692523</td>\n",
       "      <td>0.730322</td>\n",
       "      <td>0.752874</td>\n",
       "      <td>-0.636485</td>\n",
       "      <td>-45.588741</td>\n",
       "      <td>2.72994</td>\n",
       "      <td>-0.636485</td>\n",
       "      <td>0.094454</td>\n",
       "      <td>-0.636485</td>\n",
       "      <td>-0.270733</td>\n",
       "    </tr>\n",
       "    <tr>\n",
       "      <th>3</th>\n",
       "      <td>-0.873138</td>\n",
       "      <td>-0.008850</td>\n",
       "      <td>-0.371257</td>\n",
       "      <td>-0.602938</td>\n",
       "      <td>-0.557513</td>\n",
       "      <td>0.911728</td>\n",
       "      <td>0.021935</td>\n",
       "      <td>2.72994</td>\n",
       "      <td>0.911728</td>\n",
       "      <td>0.094454</td>\n",
       "      <td>0.911728</td>\n",
       "      <td>-0.270733</td>\n",
       "    </tr>\n",
       "    <tr>\n",
       "      <th>4</th>\n",
       "      <td>-0.149911</td>\n",
       "      <td>0.190216</td>\n",
       "      <td>-0.319700</td>\n",
       "      <td>-0.602938</td>\n",
       "      <td>-0.557513</td>\n",
       "      <td>-0.636485</td>\n",
       "      <td>0.021935</td>\n",
       "      <td>2.72994</td>\n",
       "      <td>-0.636485</td>\n",
       "      <td>-1.524240</td>\n",
       "      <td>-0.636485</td>\n",
       "      <td>-0.270733</td>\n",
       "    </tr>\n",
       "  </tbody>\n",
       "</table>\n",
       "</div>"
      ],
      "text/plain": [
       "       area  latitude  longitude  bedrooms  bathrooms   balcony     status   \n",
       "0 -0.873138 -1.131673   0.472316 -0.602938  -0.557513 -0.636485 -45.588741  \\\n",
       "1 -0.331895 -1.131673   0.472316  0.730322  -0.557513 -0.636485 -45.588741   \n",
       "2 -0.341308 -0.649506   0.692523  0.730322   0.752874 -0.636485 -45.588741   \n",
       "3 -0.873138 -0.008850  -0.371257 -0.602938  -0.557513  0.911728   0.021935   \n",
       "4 -0.149911  0.190216  -0.319700 -0.602938  -0.557513 -0.636485   0.021935   \n",
       "\n",
       "   neworold   parking  furnished_status      lift   \n",
       "0   2.72994 -0.636485          0.094454 -0.636485  \\\n",
       "1   2.72994 -0.636485          0.094454 -0.636485   \n",
       "2   2.72994 -0.636485          0.094454 -0.636485   \n",
       "3   2.72994  0.911728          0.094454  0.911728   \n",
       "4   2.72994 -0.636485         -1.524240 -0.636485   \n",
       "\n",
       "   type_of_building_individual house  \n",
       "0                          -0.270733  \n",
       "1                          -0.270733  \n",
       "2                          -0.270733  \n",
       "3                          -0.270733  \n",
       "4                          -0.270733  "
      ]
     },
     "execution_count": 15,
     "metadata": {},
     "output_type": "execute_result"
    }
   ],
   "source": [
    "scaler = StandardScaler()\n",
    "X_scaled = scaler.fit_transform(X_reg)\n",
    "X_scaled = pd.DataFrame(X_scaled, columns=X_reg.columns)\n",
    "X_scaled.head()"
   ]
  },
  {
   "cell_type": "code",
   "execution_count": 16,
   "id": "7bdc3770",
   "metadata": {},
   "outputs": [
    {
     "name": "stdout",
     "output_type": "stream",
     "text": [
      "(6238, 3)\n",
      "10837637.658851404\n",
      "0.5163079024301348\n"
     ]
    }
   ],
   "source": [
    "vt_rg = VarianceThreshold(1)\n",
    "X_vt_rg = vt_rg.fit_transform(X_scaled)\n",
    "print(X_vt_rg.shape)\n",
    "test2(X_vt_rg, y_reg)"
   ]
  },
  {
   "cell_type": "markdown",
   "id": "6f1e16be",
   "metadata": {},
   "source": [
    "### SelectKBest"
   ]
  },
  {
   "cell_type": "code",
   "execution_count": 17,
   "id": "9175d60c",
   "metadata": {},
   "outputs": [
    {
     "name": "stdout",
     "output_type": "stream",
     "text": [
      "7893017.2842204105\n",
      "0.7827947768234921\n"
     ]
    }
   ],
   "source": [
    "skb_rg = SelectKBest(k=6)\n",
    "X_skb_rg = skb_rg.fit_transform(X_reg, y_reg)\n",
    "test2(X_skb_rg, y_reg)"
   ]
  },
  {
   "cell_type": "code",
   "execution_count": 18,
   "id": "120f3992",
   "metadata": {},
   "outputs": [
    {
     "data": {
      "text/html": [
       "<div>\n",
       "<style scoped>\n",
       "    .dataframe tbody tr th:only-of-type {\n",
       "        vertical-align: middle;\n",
       "    }\n",
       "\n",
       "    .dataframe tbody tr th {\n",
       "        vertical-align: top;\n",
       "    }\n",
       "\n",
       "    .dataframe thead th {\n",
       "        text-align: right;\n",
       "    }\n",
       "</style>\n",
       "<table border=\"1\" class=\"dataframe\">\n",
       "  <thead>\n",
       "    <tr style=\"text-align: right;\">\n",
       "      <th></th>\n",
       "      <th>area</th>\n",
       "      <th>latitude</th>\n",
       "      <th>longitude</th>\n",
       "      <th>bedrooms</th>\n",
       "      <th>bathrooms</th>\n",
       "      <th>status</th>\n",
       "    </tr>\n",
       "  </thead>\n",
       "  <tbody>\n",
       "    <tr>\n",
       "      <th>0</th>\n",
       "      <td>629.0</td>\n",
       "      <td>19.032800</td>\n",
       "      <td>72.896357</td>\n",
       "      <td>2.0</td>\n",
       "      <td>2.0</td>\n",
       "      <td>0.0</td>\n",
       "    </tr>\n",
       "    <tr>\n",
       "      <th>1</th>\n",
       "      <td>974.0</td>\n",
       "      <td>19.032800</td>\n",
       "      <td>72.896357</td>\n",
       "      <td>3.0</td>\n",
       "      <td>2.0</td>\n",
       "      <td>0.0</td>\n",
       "    </tr>\n",
       "    <tr>\n",
       "      <th>2</th>\n",
       "      <td>968.0</td>\n",
       "      <td>19.085600</td>\n",
       "      <td>72.909277</td>\n",
       "      <td>3.0</td>\n",
       "      <td>3.0</td>\n",
       "      <td>0.0</td>\n",
       "    </tr>\n",
       "    <tr>\n",
       "      <th>3</th>\n",
       "      <td>629.0</td>\n",
       "      <td>19.155756</td>\n",
       "      <td>72.846862</td>\n",
       "      <td>2.0</td>\n",
       "      <td>2.0</td>\n",
       "      <td>1.0</td>\n",
       "    </tr>\n",
       "    <tr>\n",
       "      <th>4</th>\n",
       "      <td>1090.0</td>\n",
       "      <td>19.177555</td>\n",
       "      <td>72.849887</td>\n",
       "      <td>2.0</td>\n",
       "      <td>2.0</td>\n",
       "      <td>1.0</td>\n",
       "    </tr>\n",
       "    <tr>\n",
       "      <th>...</th>\n",
       "      <td>...</td>\n",
       "      <td>...</td>\n",
       "      <td>...</td>\n",
       "      <td>...</td>\n",
       "      <td>...</td>\n",
       "      <td>...</td>\n",
       "    </tr>\n",
       "    <tr>\n",
       "      <th>6233</th>\n",
       "      <td>810.0</td>\n",
       "      <td>19.138320</td>\n",
       "      <td>72.810020</td>\n",
       "      <td>2.0</td>\n",
       "      <td>2.0</td>\n",
       "      <td>1.0</td>\n",
       "    </tr>\n",
       "    <tr>\n",
       "      <th>6234</th>\n",
       "      <td>1400.0</td>\n",
       "      <td>19.221920</td>\n",
       "      <td>72.854250</td>\n",
       "      <td>3.0</td>\n",
       "      <td>3.0</td>\n",
       "      <td>1.0</td>\n",
       "    </tr>\n",
       "    <tr>\n",
       "      <th>6235</th>\n",
       "      <td>750.0</td>\n",
       "      <td>19.144320</td>\n",
       "      <td>72.824111</td>\n",
       "      <td>2.0</td>\n",
       "      <td>2.0</td>\n",
       "      <td>1.0</td>\n",
       "    </tr>\n",
       "    <tr>\n",
       "      <th>6236</th>\n",
       "      <td>700.0</td>\n",
       "      <td>19.047201</td>\n",
       "      <td>72.872225</td>\n",
       "      <td>2.0</td>\n",
       "      <td>2.0</td>\n",
       "      <td>1.0</td>\n",
       "    </tr>\n",
       "    <tr>\n",
       "      <th>6237</th>\n",
       "      <td>900.0</td>\n",
       "      <td>19.168818</td>\n",
       "      <td>72.936375</td>\n",
       "      <td>2.0</td>\n",
       "      <td>2.0</td>\n",
       "      <td>1.0</td>\n",
       "    </tr>\n",
       "  </tbody>\n",
       "</table>\n",
       "<p>6238 rows × 6 columns</p>\n",
       "</div>"
      ],
      "text/plain": [
       "        area   latitude  longitude  bedrooms  bathrooms  status\n",
       "0      629.0  19.032800  72.896357       2.0        2.0     0.0\n",
       "1      974.0  19.032800  72.896357       3.0        2.0     0.0\n",
       "2      968.0  19.085600  72.909277       3.0        3.0     0.0\n",
       "3      629.0  19.155756  72.846862       2.0        2.0     1.0\n",
       "4     1090.0  19.177555  72.849887       2.0        2.0     1.0\n",
       "...      ...        ...        ...       ...        ...     ...\n",
       "6233   810.0  19.138320  72.810020       2.0        2.0     1.0\n",
       "6234  1400.0  19.221920  72.854250       3.0        3.0     1.0\n",
       "6235   750.0  19.144320  72.824111       2.0        2.0     1.0\n",
       "6236   700.0  19.047201  72.872225       2.0        2.0     1.0\n",
       "6237   900.0  19.168818  72.936375       2.0        2.0     1.0\n",
       "\n",
       "[6238 rows x 6 columns]"
      ]
     },
     "execution_count": 18,
     "metadata": {},
     "output_type": "execute_result"
    }
   ],
   "source": [
    "X_skb_rg = pd.DataFrame(X_skb_rg, columns=skb_rg.get_feature_names_out())\n",
    "X_skb_rg"
   ]
  },
  {
   "cell_type": "markdown",
   "id": "88ebe390",
   "metadata": {},
   "source": [
    "### RFE"
   ]
  },
  {
   "cell_type": "code",
   "execution_count": 19,
   "id": "998fb8fb",
   "metadata": {},
   "outputs": [],
   "source": [
    "tree = DecisionTreeRegressor().fit(X_reg, y_reg)"
   ]
  },
  {
   "cell_type": "code",
   "execution_count": 20,
   "id": "02281262",
   "metadata": {},
   "outputs": [
    {
     "data": {
      "text/html": [
       "<div>\n",
       "<style scoped>\n",
       "    .dataframe tbody tr th:only-of-type {\n",
       "        vertical-align: middle;\n",
       "    }\n",
       "\n",
       "    .dataframe tbody tr th {\n",
       "        vertical-align: top;\n",
       "    }\n",
       "\n",
       "    .dataframe thead th {\n",
       "        text-align: right;\n",
       "    }\n",
       "</style>\n",
       "<table border=\"1\" class=\"dataframe\">\n",
       "  <thead>\n",
       "    <tr style=\"text-align: right;\">\n",
       "      <th></th>\n",
       "      <th>area</th>\n",
       "      <th>latitude</th>\n",
       "      <th>longitude</th>\n",
       "      <th>bathrooms</th>\n",
       "    </tr>\n",
       "  </thead>\n",
       "  <tbody>\n",
       "    <tr>\n",
       "      <th>0</th>\n",
       "      <td>629.0</td>\n",
       "      <td>19.032800</td>\n",
       "      <td>72.896357</td>\n",
       "      <td>2.0</td>\n",
       "    </tr>\n",
       "    <tr>\n",
       "      <th>1</th>\n",
       "      <td>974.0</td>\n",
       "      <td>19.032800</td>\n",
       "      <td>72.896357</td>\n",
       "      <td>2.0</td>\n",
       "    </tr>\n",
       "    <tr>\n",
       "      <th>2</th>\n",
       "      <td>968.0</td>\n",
       "      <td>19.085600</td>\n",
       "      <td>72.909277</td>\n",
       "      <td>3.0</td>\n",
       "    </tr>\n",
       "    <tr>\n",
       "      <th>3</th>\n",
       "      <td>629.0</td>\n",
       "      <td>19.155756</td>\n",
       "      <td>72.846862</td>\n",
       "      <td>2.0</td>\n",
       "    </tr>\n",
       "    <tr>\n",
       "      <th>4</th>\n",
       "      <td>1090.0</td>\n",
       "      <td>19.177555</td>\n",
       "      <td>72.849887</td>\n",
       "      <td>2.0</td>\n",
       "    </tr>\n",
       "    <tr>\n",
       "      <th>...</th>\n",
       "      <td>...</td>\n",
       "      <td>...</td>\n",
       "      <td>...</td>\n",
       "      <td>...</td>\n",
       "    </tr>\n",
       "    <tr>\n",
       "      <th>6233</th>\n",
       "      <td>810.0</td>\n",
       "      <td>19.138320</td>\n",
       "      <td>72.810020</td>\n",
       "      <td>2.0</td>\n",
       "    </tr>\n",
       "    <tr>\n",
       "      <th>6234</th>\n",
       "      <td>1400.0</td>\n",
       "      <td>19.221920</td>\n",
       "      <td>72.854250</td>\n",
       "      <td>3.0</td>\n",
       "    </tr>\n",
       "    <tr>\n",
       "      <th>6235</th>\n",
       "      <td>750.0</td>\n",
       "      <td>19.144320</td>\n",
       "      <td>72.824111</td>\n",
       "      <td>2.0</td>\n",
       "    </tr>\n",
       "    <tr>\n",
       "      <th>6236</th>\n",
       "      <td>700.0</td>\n",
       "      <td>19.047201</td>\n",
       "      <td>72.872225</td>\n",
       "      <td>2.0</td>\n",
       "    </tr>\n",
       "    <tr>\n",
       "      <th>6237</th>\n",
       "      <td>900.0</td>\n",
       "      <td>19.168818</td>\n",
       "      <td>72.936375</td>\n",
       "      <td>2.0</td>\n",
       "    </tr>\n",
       "  </tbody>\n",
       "</table>\n",
       "<p>6238 rows × 4 columns</p>\n",
       "</div>"
      ],
      "text/plain": [
       "        area   latitude  longitude  bathrooms\n",
       "0      629.0  19.032800  72.896357        2.0\n",
       "1      974.0  19.032800  72.896357        2.0\n",
       "2      968.0  19.085600  72.909277        3.0\n",
       "3      629.0  19.155756  72.846862        2.0\n",
       "4     1090.0  19.177555  72.849887        2.0\n",
       "...      ...        ...        ...        ...\n",
       "6233   810.0  19.138320  72.810020        2.0\n",
       "6234  1400.0  19.221920  72.854250        3.0\n",
       "6235   750.0  19.144320  72.824111        2.0\n",
       "6236   700.0  19.047201  72.872225        2.0\n",
       "6237   900.0  19.168818  72.936375        2.0\n",
       "\n",
       "[6238 rows x 4 columns]"
      ]
     },
     "execution_count": 20,
     "metadata": {},
     "output_type": "execute_result"
    }
   ],
   "source": [
    "rfe_rg = RFE(estimator=tree, n_features_to_select=4, step=1).fit(X_reg, y_reg)\n",
    "X_rfe_rg = pd.DataFrame(rfe_rg.transform(X_reg), columns=rfe_rg.get_feature_names_out())\n",
    "X_rfe_rg"
   ]
  },
  {
   "cell_type": "code",
   "execution_count": 21,
   "id": "4c363369",
   "metadata": {},
   "outputs": [
    {
     "name": "stdout",
     "output_type": "stream",
     "text": [
      "7871515.610585402\n",
      "0.7750406219455577\n"
     ]
    }
   ],
   "source": [
    "test2(X_rfe_rg, y_reg)"
   ]
  },
  {
   "cell_type": "markdown",
   "id": "137f62f6",
   "metadata": {},
   "source": [
    "### PCA"
   ]
  },
  {
   "cell_type": "code",
   "execution_count": 22,
   "id": "4a03f26c",
   "metadata": {},
   "outputs": [
    {
     "data": {
      "text/plain": [
       "(6238, 2)"
      ]
     },
     "execution_count": 22,
     "metadata": {},
     "output_type": "execute_result"
    }
   ],
   "source": [
    "pca_rg = PCA(n_components=2)\n",
    "X_pca_rg = pca_rg.fit_transform(X_reg, y_reg)\n",
    "X_pca_rg.shape"
   ]
  },
  {
   "cell_type": "code",
   "execution_count": 23,
   "id": "c8322ded",
   "metadata": {},
   "outputs": [
    {
     "data": {
      "image/png": "[encoded data removed]",
      "text/plain": [
       "<Figure size 640x480 with 1 Axes>"
      ]
     },
     "metadata": {},
     "output_type": "display_data"
    }
   ],
   "source": [
    "plt.scatter(X_pca_rg[:,0], X_pca_rg[:,1], c=y_reg);"
   ]
  },
  {
   "cell_type": "code",
   "execution_count": 24,
   "id": "08e66bed",
   "metadata": {},
   "outputs": [
    {
     "data": {
      "text/plain": [
       "0.9999972214093122"
      ]
     },
     "execution_count": 24,
     "metadata": {},
     "output_type": "execute_result"
    }
   ],
   "source": [
    "sum(pca_rg.explained_variance_ratio_)"
   ]
  },
  {
   "cell_type": "code",
   "execution_count": 25,
   "id": "6019f869",
   "metadata": {},
   "outputs": [
    {
     "name": "stdout",
     "output_type": "stream",
     "text": [
      "13077254.382885633\n",
      "0.40218526327161586\n"
     ]
    }
   ],
   "source": [
    "test2(X_pca_rg, y_reg)"
   ]
  },
  {
   "cell_type": "markdown",
   "id": "b3502077",
   "metadata": {},
   "source": [
    "## Предобработка для классификации "
   ]
  },
  {
   "cell_type": "code",
   "execution_count": 26,
   "id": "fc31f355",
   "metadata": {},
   "outputs": [
    {
     "data": {
      "text/html": [
       "<div>\n",
       "<style scoped>\n",
       "    .dataframe tbody tr th:only-of-type {\n",
       "        vertical-align: middle;\n",
       "    }\n",
       "\n",
       "    .dataframe tbody tr th {\n",
       "        vertical-align: top;\n",
       "    }\n",
       "\n",
       "    .dataframe thead th {\n",
       "        text-align: right;\n",
       "    }\n",
       "</style>\n",
       "<table border=\"1\" class=\"dataframe\">\n",
       "  <thead>\n",
       "    <tr style=\"text-align: right;\">\n",
       "      <th></th>\n",
       "      <th>Temperature[C]</th>\n",
       "      <th>Humidity[%]</th>\n",
       "      <th>TVOC[ppb]</th>\n",
       "      <th>eCO2[ppm]</th>\n",
       "      <th>Raw H2</th>\n",
       "      <th>Raw Ethanol</th>\n",
       "      <th>Pressure[hPa]</th>\n",
       "      <th>PM1.0</th>\n",
       "      <th>PM2.5</th>\n",
       "      <th>NC0.5</th>\n",
       "      <th>NC1.0</th>\n",
       "      <th>NC2.5</th>\n",
       "      <th>Fire Alarm</th>\n",
       "    </tr>\n",
       "  </thead>\n",
       "  <tbody>\n",
       "    <tr>\n",
       "      <th>0</th>\n",
       "      <td>23.41</td>\n",
       "      <td>69.47</td>\n",
       "      <td>43.0</td>\n",
       "      <td>1120.0</td>\n",
       "      <td>13105.0</td>\n",
       "      <td>19890.0</td>\n",
       "      <td>931.239</td>\n",
       "      <td>14299.14</td>\n",
       "      <td>45432.26</td>\n",
       "      <td>21592.18</td>\n",
       "      <td>51914.680</td>\n",
       "      <td>30026.438</td>\n",
       "      <td>1.0</td>\n",
       "    </tr>\n",
       "    <tr>\n",
       "      <th>1</th>\n",
       "      <td>23.00</td>\n",
       "      <td>70.28</td>\n",
       "      <td>50.0</td>\n",
       "      <td>1137.0</td>\n",
       "      <td>13094.0</td>\n",
       "      <td>19887.0</td>\n",
       "      <td>931.242</td>\n",
       "      <td>14333.69</td>\n",
       "      <td>45018.38</td>\n",
       "      <td>22959.95</td>\n",
       "      <td>51413.852</td>\n",
       "      <td>29590.688</td>\n",
       "      <td>1.0</td>\n",
       "    </tr>\n",
       "    <tr>\n",
       "      <th>2</th>\n",
       "      <td>23.66</td>\n",
       "      <td>68.41</td>\n",
       "      <td>52.0</td>\n",
       "      <td>1141.0</td>\n",
       "      <td>13100.0</td>\n",
       "      <td>19882.0</td>\n",
       "      <td>931.251</td>\n",
       "      <td>14149.05</td>\n",
       "      <td>44786.43</td>\n",
       "      <td>21789.97</td>\n",
       "      <td>51167.711</td>\n",
       "      <td>29547.281</td>\n",
       "      <td>1.0</td>\n",
       "    </tr>\n",
       "    <tr>\n",
       "      <th>3</th>\n",
       "      <td>25.86</td>\n",
       "      <td>62.03</td>\n",
       "      <td>546.0</td>\n",
       "      <td>1777.0</td>\n",
       "      <td>12872.0</td>\n",
       "      <td>19414.0</td>\n",
       "      <td>931.213</td>\n",
       "      <td>14318.17</td>\n",
       "      <td>44357.90</td>\n",
       "      <td>24472.12</td>\n",
       "      <td>50626.562</td>\n",
       "      <td>28964.852</td>\n",
       "      <td>1.0</td>\n",
       "    </tr>\n",
       "    <tr>\n",
       "      <th>4</th>\n",
       "      <td>25.74</td>\n",
       "      <td>62.93</td>\n",
       "      <td>542.0</td>\n",
       "      <td>1710.0</td>\n",
       "      <td>12878.0</td>\n",
       "      <td>19426.0</td>\n",
       "      <td>931.215</td>\n",
       "      <td>14205.93</td>\n",
       "      <td>43765.07</td>\n",
       "      <td>24896.17</td>\n",
       "      <td>49936.551</td>\n",
       "      <td>28499.859</td>\n",
       "      <td>1.0</td>\n",
       "    </tr>\n",
       "    <tr>\n",
       "      <th>...</th>\n",
       "      <td>...</td>\n",
       "      <td>...</td>\n",
       "      <td>...</td>\n",
       "      <td>...</td>\n",
       "      <td>...</td>\n",
       "      <td>...</td>\n",
       "      <td>...</td>\n",
       "      <td>...</td>\n",
       "      <td>...</td>\n",
       "      <td>...</td>\n",
       "      <td>...</td>\n",
       "      <td>...</td>\n",
       "      <td>...</td>\n",
       "    </tr>\n",
       "    <tr>\n",
       "      <th>62625</th>\n",
       "      <td>13.00</td>\n",
       "      <td>53.20</td>\n",
       "      <td>0.0</td>\n",
       "      <td>400.0</td>\n",
       "      <td>12439.0</td>\n",
       "      <td>19114.0</td>\n",
       "      <td>939.758</td>\n",
       "      <td>0.00</td>\n",
       "      <td>0.00</td>\n",
       "      <td>0.00</td>\n",
       "      <td>0.000</td>\n",
       "      <td>0.000</td>\n",
       "      <td>0.0</td>\n",
       "    </tr>\n",
       "    <tr>\n",
       "      <th>62626</th>\n",
       "      <td>13.06</td>\n",
       "      <td>52.81</td>\n",
       "      <td>0.0</td>\n",
       "      <td>400.0</td>\n",
       "      <td>12448.0</td>\n",
       "      <td>19155.0</td>\n",
       "      <td>939.758</td>\n",
       "      <td>0.00</td>\n",
       "      <td>0.00</td>\n",
       "      <td>0.00</td>\n",
       "      <td>0.000</td>\n",
       "      <td>0.000</td>\n",
       "      <td>0.0</td>\n",
       "    </tr>\n",
       "    <tr>\n",
       "      <th>62627</th>\n",
       "      <td>11.81</td>\n",
       "      <td>50.49</td>\n",
       "      <td>31.0</td>\n",
       "      <td>445.0</td>\n",
       "      <td>12545.0</td>\n",
       "      <td>19632.0</td>\n",
       "      <td>939.810</td>\n",
       "      <td>0.00</td>\n",
       "      <td>0.00</td>\n",
       "      <td>0.00</td>\n",
       "      <td>0.001</td>\n",
       "      <td>0.000</td>\n",
       "      <td>0.0</td>\n",
       "    </tr>\n",
       "    <tr>\n",
       "      <th>62628</th>\n",
       "      <td>11.69</td>\n",
       "      <td>51.08</td>\n",
       "      <td>28.0</td>\n",
       "      <td>453.0</td>\n",
       "      <td>12548.0</td>\n",
       "      <td>19631.0</td>\n",
       "      <td>939.818</td>\n",
       "      <td>0.00</td>\n",
       "      <td>0.00</td>\n",
       "      <td>0.00</td>\n",
       "      <td>0.001</td>\n",
       "      <td>0.000</td>\n",
       "      <td>0.0</td>\n",
       "    </tr>\n",
       "    <tr>\n",
       "      <th>62629</th>\n",
       "      <td>20.00</td>\n",
       "      <td>57.36</td>\n",
       "      <td>0.0</td>\n",
       "      <td>400.0</td>\n",
       "      <td>12306.0</td>\n",
       "      <td>18520.0</td>\n",
       "      <td>939.735</td>\n",
       "      <td>0.00</td>\n",
       "      <td>0.00</td>\n",
       "      <td>0.00</td>\n",
       "      <td>0.000</td>\n",
       "      <td>0.000</td>\n",
       "      <td>0.0</td>\n",
       "    </tr>\n",
       "  </tbody>\n",
       "</table>\n",
       "<p>62630 rows × 13 columns</p>\n",
       "</div>"
      ],
      "text/plain": [
       "       Temperature[C]  Humidity[%]  TVOC[ppb]  eCO2[ppm]   Raw H2   \n",
       "0               23.41        69.47       43.0     1120.0  13105.0  \\\n",
       "1               23.00        70.28       50.0     1137.0  13094.0   \n",
       "2               23.66        68.41       52.0     1141.0  13100.0   \n",
       "3               25.86        62.03      546.0     1777.0  12872.0   \n",
       "4               25.74        62.93      542.0     1710.0  12878.0   \n",
       "...               ...          ...        ...        ...      ...   \n",
       "62625           13.00        53.20        0.0      400.0  12439.0   \n",
       "62626           13.06        52.81        0.0      400.0  12448.0   \n",
       "62627           11.81        50.49       31.0      445.0  12545.0   \n",
       "62628           11.69        51.08       28.0      453.0  12548.0   \n",
       "62629           20.00        57.36        0.0      400.0  12306.0   \n",
       "\n",
       "       Raw Ethanol  Pressure[hPa]     PM1.0     PM2.5     NC0.5      NC1.0   \n",
       "0          19890.0        931.239  14299.14  45432.26  21592.18  51914.680  \\\n",
       "1          19887.0        931.242  14333.69  45018.38  22959.95  51413.852   \n",
       "2          19882.0        931.251  14149.05  44786.43  21789.97  51167.711   \n",
       "3          19414.0        931.213  14318.17  44357.90  24472.12  50626.562   \n",
       "4          19426.0        931.215  14205.93  43765.07  24896.17  49936.551   \n",
       "...            ...            ...       ...       ...       ...        ...   \n",
       "62625      19114.0        939.758      0.00      0.00      0.00      0.000   \n",
       "62626      19155.0        939.758      0.00      0.00      0.00      0.000   \n",
       "62627      19632.0        939.810      0.00      0.00      0.00      0.001   \n",
       "62628      19631.0        939.818      0.00      0.00      0.00      0.001   \n",
       "62629      18520.0        939.735      0.00      0.00      0.00      0.000   \n",
       "\n",
       "           NC2.5  Fire Alarm  \n",
       "0      30026.438         1.0  \n",
       "1      29590.688         1.0  \n",
       "2      29547.281         1.0  \n",
       "3      28964.852         1.0  \n",
       "4      28499.859         1.0  \n",
       "...          ...         ...  \n",
       "62625      0.000         0.0  \n",
       "62626      0.000         0.0  \n",
       "62627      0.000         0.0  \n",
       "62628      0.000         0.0  \n",
       "62629      0.000         0.0  \n",
       "\n",
       "[62630 rows x 13 columns]"
      ]
     },
     "execution_count": 26,
     "metadata": {},
     "output_type": "execute_result"
    }
   ],
   "source": [
    "data_сlr.drop(columns =['Unnamed: 0'], axis=1, inplace=True)\n",
    "data_сlr"
   ]
  },
  {
   "cell_type": "markdown",
   "id": "269938ab",
   "metadata": {},
   "source": [
    "### Выделение целевого признака и предикторов"
   ]
  },
  {
   "cell_type": "code",
   "execution_count": 27,
   "id": "f6ff0ab6",
   "metadata": {},
   "outputs": [],
   "source": [
    "y_clr = data_сlr[\"Fire Alarm\"]  #целевой признак\n",
    "X_clr = data_сlr.drop([\"Fire Alarm\"], axis=1) #предикторы"
   ]
  },
  {
   "cell_type": "markdown",
   "id": "4469780e",
   "metadata": {},
   "source": [
    "### Предобработка данных таблицы для классификации"
   ]
  },
  {
   "cell_type": "markdown",
   "id": "758a4c47",
   "metadata": {},
   "source": [
    "### Балансировка для задачи классификации"
   ]
  },
  {
   "cell_type": "code",
   "execution_count": 28,
   "id": "f649f52c",
   "metadata": {},
   "outputs": [
    {
     "name": "stdout",
     "output_type": "stream",
     "text": [
      "Количество объектов каждого класса до under_sampling: \n",
      "Fire Alarm\n",
      "1.0    44757\n",
      "0.0    17873\n",
      "Name: count, dtype: int64\n",
      "Количество объектов каждого класса после under_sampling: \n",
      "Fire Alarm\n",
      "0.0    17873\n",
      "1.0    17873\n",
      "Name: count, dtype: int64\n"
     ]
    }
   ],
   "source": [
    "#!pip install imbalanced-learn\n",
    "# 1 - мажоритарный класс (доля примеров слишком высокая)\n",
    "# 0 - миноритарный класс (доля примеров слишком низкая)\n",
    "from imblearn.under_sampling import RandomUnderSampler #случайное удаление\n",
    "#вычисляем количество экземпляров мажоритарного класса, которые нужно удалить\n",
    "print(f\"Количество объектов каждого класса до under_sampling: \\n{y_clr.value_counts()}\")\n",
    "underSampler = RandomUnderSampler(sampling_strategy='majority') # пересэмплировать только мажоритарный класс\n",
    "# удалим некоторое число примеров мажоритарного (большего) класса\n",
    "X_under_sample, y_under_sample = underSampler.fit_resample(X_clr, y_clr)# повторить выборку \n",
    "print(f\"Количество объектов каждого класса после under_sampling: \\n{y_under_sample.value_counts()}\")"
   ]
  },
  {
   "cell_type": "code",
   "execution_count": 29,
   "id": "180cabc5",
   "metadata": {},
   "outputs": [],
   "source": [
    "#Тестировать модель будем с помощью ансамбля\n",
    "from sklearn.ensemble import BaggingClassifier\n",
    "from sklearn.model_selection import train_test_split\n",
    "from sklearn.metrics import classification_report"
   ]
  },
  {
   "cell_type": "code",
   "execution_count": 30,
   "id": "b0a16b71",
   "metadata": {},
   "outputs": [],
   "source": [
    "def test(X, y):\n",
    "    X_train, X_test, y_train, y_test = train_test_split(X, y, test_size=0.15, shuffle=False)\n",
    "    bag = BaggingClassifier().fit(X_train, y_train)\n",
    "    print(classification_report(y_test, bag.predict(X_test)))"
   ]
  },
  {
   "cell_type": "code",
   "execution_count": 31,
   "id": "d298a474",
   "metadata": {},
   "outputs": [],
   "source": [
    "np.random.seed(42)"
   ]
  },
  {
   "cell_type": "code",
   "execution_count": 32,
   "id": "89b56def",
   "metadata": {},
   "outputs": [
    {
     "name": "stdout",
     "output_type": "stream",
     "text": [
      "              precision    recall  f1-score   support\n",
      "\n",
      "         0.0       0.82      1.00      0.90      4046\n",
      "         1.0       1.00      0.83      0.91      5349\n",
      "\n",
      "    accuracy                           0.90      9395\n",
      "   macro avg       0.91      0.91      0.90      9395\n",
      "weighted avg       0.92      0.90      0.90      9395\n",
      "\n"
     ]
    }
   ],
   "source": [
    "test(X_clr, y_clr)"
   ]
  },
  {
   "cell_type": "markdown",
   "id": "3593499a",
   "metadata": {},
   "source": [
    "## Понижение размерности для классификации"
   ]
  },
  {
   "cell_type": "markdown",
   "id": "b6b66937",
   "metadata": {},
   "source": [
    "### 1. Отбираем признаки с высокой дисперсией"
   ]
  },
  {
   "cell_type": "markdown",
   "id": "6edf28e0",
   "metadata": {},
   "source": [
    "Самый очевидный способ отбора признаков - брать признаки с высокой дисперсией. Такой подход предполагает, что мы работаем только с предикторами (игнорируем целевой признак)"
   ]
  },
  {
   "cell_type": "code",
   "execution_count": 33,
   "id": "f38d1528",
   "metadata": {},
   "outputs": [
    {
     "data": {
      "text/html": [
       "<div>\n",
       "<style scoped>\n",
       "    .dataframe tbody tr th:only-of-type {\n",
       "        vertical-align: middle;\n",
       "    }\n",
       "\n",
       "    .dataframe tbody tr th {\n",
       "        vertical-align: top;\n",
       "    }\n",
       "\n",
       "    .dataframe thead th {\n",
       "        text-align: right;\n",
       "    }\n",
       "</style>\n",
       "<table border=\"1\" class=\"dataframe\">\n",
       "  <thead>\n",
       "    <tr style=\"text-align: right;\">\n",
       "      <th></th>\n",
       "      <th>Temperature[C]</th>\n",
       "      <th>Humidity[%]</th>\n",
       "      <th>TVOC[ppb]</th>\n",
       "      <th>eCO2[ppm]</th>\n",
       "      <th>Raw H2</th>\n",
       "      <th>Raw Ethanol</th>\n",
       "      <th>Pressure[hPa]</th>\n",
       "      <th>PM1.0</th>\n",
       "      <th>PM2.5</th>\n",
       "      <th>NC0.5</th>\n",
       "      <th>NC1.0</th>\n",
       "      <th>NC2.5</th>\n",
       "    </tr>\n",
       "  </thead>\n",
       "  <tbody>\n",
       "    <tr>\n",
       "      <th>count</th>\n",
       "      <td>62630.000000</td>\n",
       "      <td>62630.000000</td>\n",
       "      <td>62630.000000</td>\n",
       "      <td>62630.000000</td>\n",
       "      <td>62630.000000</td>\n",
       "      <td>62630.000000</td>\n",
       "      <td>62630.000000</td>\n",
       "      <td>62630.000000</td>\n",
       "      <td>62630.000000</td>\n",
       "      <td>62630.000000</td>\n",
       "      <td>62630.000000</td>\n",
       "      <td>62630.000000</td>\n",
       "    </tr>\n",
       "    <tr>\n",
       "      <th>mean</th>\n",
       "      <td>15.981944</td>\n",
       "      <td>48.543291</td>\n",
       "      <td>1934.574293</td>\n",
       "      <td>669.170924</td>\n",
       "      <td>12942.351253</td>\n",
       "      <td>19754.257912</td>\n",
       "      <td>938.627725</td>\n",
       "      <td>100.594309</td>\n",
       "      <td>183.519427</td>\n",
       "      <td>491.463608</td>\n",
       "      <td>202.572138</td>\n",
       "      <td>80.049042</td>\n",
       "    </tr>\n",
       "    <tr>\n",
       "      <th>std</th>\n",
       "      <td>14.345858</td>\n",
       "      <td>8.852056</td>\n",
       "      <td>7781.388564</td>\n",
       "      <td>1904.813775</td>\n",
       "      <td>272.290962</td>\n",
       "      <td>609.513156</td>\n",
       "      <td>1.330888</td>\n",
       "      <td>922.524245</td>\n",
       "      <td>1971.624384</td>\n",
       "      <td>4265.661251</td>\n",
       "      <td>2210.296279</td>\n",
       "      <td>1083.383189</td>\n",
       "    </tr>\n",
       "    <tr>\n",
       "      <th>min</th>\n",
       "      <td>-22.010000</td>\n",
       "      <td>10.740000</td>\n",
       "      <td>0.000000</td>\n",
       "      <td>400.000000</td>\n",
       "      <td>10668.000000</td>\n",
       "      <td>15317.000000</td>\n",
       "      <td>930.852000</td>\n",
       "      <td>0.000000</td>\n",
       "      <td>0.000000</td>\n",
       "      <td>0.000000</td>\n",
       "      <td>0.000000</td>\n",
       "      <td>0.000000</td>\n",
       "    </tr>\n",
       "    <tr>\n",
       "      <th>25%</th>\n",
       "      <td>11.074000</td>\n",
       "      <td>47.540000</td>\n",
       "      <td>132.000000</td>\n",
       "      <td>400.000000</td>\n",
       "      <td>12830.000000</td>\n",
       "      <td>19435.000000</td>\n",
       "      <td>938.700000</td>\n",
       "      <td>1.280000</td>\n",
       "      <td>1.350000</td>\n",
       "      <td>8.820000</td>\n",
       "      <td>1.392000</td>\n",
       "      <td>0.033000</td>\n",
       "    </tr>\n",
       "    <tr>\n",
       "      <th>50%</th>\n",
       "      <td>20.130000</td>\n",
       "      <td>50.140000</td>\n",
       "      <td>981.000000</td>\n",
       "      <td>400.000000</td>\n",
       "      <td>12924.000000</td>\n",
       "      <td>19501.000000</td>\n",
       "      <td>938.816000</td>\n",
       "      <td>1.810000</td>\n",
       "      <td>1.880000</td>\n",
       "      <td>12.450000</td>\n",
       "      <td>1.942000</td>\n",
       "      <td>0.044000</td>\n",
       "    </tr>\n",
       "    <tr>\n",
       "      <th>75%</th>\n",
       "      <td>25.400000</td>\n",
       "      <td>53.240000</td>\n",
       "      <td>1187.000000</td>\n",
       "      <td>437.000000</td>\n",
       "      <td>13108.000000</td>\n",
       "      <td>20078.000000</td>\n",
       "      <td>939.417000</td>\n",
       "      <td>2.090000</td>\n",
       "      <td>2.180000</td>\n",
       "      <td>14.420000</td>\n",
       "      <td>2.247000</td>\n",
       "      <td>0.051000</td>\n",
       "    </tr>\n",
       "    <tr>\n",
       "      <th>max</th>\n",
       "      <td>59.930000</td>\n",
       "      <td>75.200000</td>\n",
       "      <td>60000.000000</td>\n",
       "      <td>60000.000000</td>\n",
       "      <td>13803.000000</td>\n",
       "      <td>21410.000000</td>\n",
       "      <td>939.861000</td>\n",
       "      <td>14333.690000</td>\n",
       "      <td>45432.260000</td>\n",
       "      <td>61482.030000</td>\n",
       "      <td>51914.680000</td>\n",
       "      <td>30026.438000</td>\n",
       "    </tr>\n",
       "  </tbody>\n",
       "</table>\n",
       "</div>"
      ],
      "text/plain": [
       "       Temperature[C]   Humidity[%]     TVOC[ppb]     eCO2[ppm]        Raw H2   \n",
       "count    62630.000000  62630.000000  62630.000000  62630.000000  62630.000000  \\\n",
       "mean        15.981944     48.543291   1934.574293    669.170924  12942.351253   \n",
       "std         14.345858      8.852056   7781.388564   1904.813775    272.290962   \n",
       "min        -22.010000     10.740000      0.000000    400.000000  10668.000000   \n",
       "25%         11.074000     47.540000    132.000000    400.000000  12830.000000   \n",
       "50%         20.130000     50.140000    981.000000    400.000000  12924.000000   \n",
       "75%         25.400000     53.240000   1187.000000    437.000000  13108.000000   \n",
       "max         59.930000     75.200000  60000.000000  60000.000000  13803.000000   \n",
       "\n",
       "        Raw Ethanol  Pressure[hPa]         PM1.0         PM2.5         NC0.5   \n",
       "count  62630.000000   62630.000000  62630.000000  62630.000000  62630.000000  \\\n",
       "mean   19754.257912     938.627725    100.594309    183.519427    491.463608   \n",
       "std      609.513156       1.330888    922.524245   1971.624384   4265.661251   \n",
       "min    15317.000000     930.852000      0.000000      0.000000      0.000000   \n",
       "25%    19435.000000     938.700000      1.280000      1.350000      8.820000   \n",
       "50%    19501.000000     938.816000      1.810000      1.880000     12.450000   \n",
       "75%    20078.000000     939.417000      2.090000      2.180000     14.420000   \n",
       "max    21410.000000     939.861000  14333.690000  45432.260000  61482.030000   \n",
       "\n",
       "              NC1.0         NC2.5  \n",
       "count  62630.000000  62630.000000  \n",
       "mean     202.572138     80.049042  \n",
       "std     2210.296279   1083.383189  \n",
       "min        0.000000      0.000000  \n",
       "25%        1.392000      0.033000  \n",
       "50%        1.942000      0.044000  \n",
       "75%        2.247000      0.051000  \n",
       "max    51914.680000  30026.438000  "
      ]
     },
     "execution_count": 33,
     "metadata": {},
     "output_type": "execute_result"
    }
   ],
   "source": [
    "X_clr.describe()"
   ]
  },
  {
   "cell_type": "code",
   "execution_count": 34,
   "id": "65052d51",
   "metadata": {},
   "outputs": [],
   "source": [
    "from sklearn.feature_selection import VarianceThreshold"
   ]
  },
  {
   "cell_type": "code",
   "execution_count": 35,
   "id": "befa28dc",
   "metadata": {},
   "outputs": [
    {
     "data": {
      "text/plain": [
       "(62630, 11)"
      ]
     },
     "execution_count": 35,
     "metadata": {},
     "output_type": "execute_result"
    }
   ],
   "source": [
    "# параметр - порог значения дисперсии\n",
    "# будут отобраны только те признаки, у которых дисперсия выше\n",
    "vt = VarianceThreshold(4)\n",
    "X_vt = vt.fit_transform(X_clr)\n",
    "X_vt.shape"
   ]
  },
  {
   "cell_type": "code",
   "execution_count": 36,
   "id": "582657d5",
   "metadata": {},
   "outputs": [
    {
     "data": {
      "text/html": [
       "<div>\n",
       "<style scoped>\n",
       "    .dataframe tbody tr th:only-of-type {\n",
       "        vertical-align: middle;\n",
       "    }\n",
       "\n",
       "    .dataframe tbody tr th {\n",
       "        vertical-align: top;\n",
       "    }\n",
       "\n",
       "    .dataframe thead th {\n",
       "        text-align: right;\n",
       "    }\n",
       "</style>\n",
       "<table border=\"1\" class=\"dataframe\">\n",
       "  <thead>\n",
       "    <tr style=\"text-align: right;\">\n",
       "      <th></th>\n",
       "      <th>Temperature[C]</th>\n",
       "      <th>Humidity[%]</th>\n",
       "      <th>TVOC[ppb]</th>\n",
       "      <th>eCO2[ppm]</th>\n",
       "      <th>Raw H2</th>\n",
       "      <th>Raw Ethanol</th>\n",
       "      <th>PM1.0</th>\n",
       "      <th>PM2.5</th>\n",
       "      <th>NC0.5</th>\n",
       "      <th>NC1.0</th>\n",
       "      <th>NC2.5</th>\n",
       "    </tr>\n",
       "  </thead>\n",
       "  <tbody>\n",
       "    <tr>\n",
       "      <th>0</th>\n",
       "      <td>23.41</td>\n",
       "      <td>69.47</td>\n",
       "      <td>43.0</td>\n",
       "      <td>1120.0</td>\n",
       "      <td>13105.0</td>\n",
       "      <td>19890.0</td>\n",
       "      <td>14299.14</td>\n",
       "      <td>45432.26</td>\n",
       "      <td>21592.18</td>\n",
       "      <td>51914.680</td>\n",
       "      <td>30026.438</td>\n",
       "    </tr>\n",
       "    <tr>\n",
       "      <th>1</th>\n",
       "      <td>23.00</td>\n",
       "      <td>70.28</td>\n",
       "      <td>50.0</td>\n",
       "      <td>1137.0</td>\n",
       "      <td>13094.0</td>\n",
       "      <td>19887.0</td>\n",
       "      <td>14333.69</td>\n",
       "      <td>45018.38</td>\n",
       "      <td>22959.95</td>\n",
       "      <td>51413.852</td>\n",
       "      <td>29590.688</td>\n",
       "    </tr>\n",
       "    <tr>\n",
       "      <th>2</th>\n",
       "      <td>23.66</td>\n",
       "      <td>68.41</td>\n",
       "      <td>52.0</td>\n",
       "      <td>1141.0</td>\n",
       "      <td>13100.0</td>\n",
       "      <td>19882.0</td>\n",
       "      <td>14149.05</td>\n",
       "      <td>44786.43</td>\n",
       "      <td>21789.97</td>\n",
       "      <td>51167.711</td>\n",
       "      <td>29547.281</td>\n",
       "    </tr>\n",
       "    <tr>\n",
       "      <th>3</th>\n",
       "      <td>25.86</td>\n",
       "      <td>62.03</td>\n",
       "      <td>546.0</td>\n",
       "      <td>1777.0</td>\n",
       "      <td>12872.0</td>\n",
       "      <td>19414.0</td>\n",
       "      <td>14318.17</td>\n",
       "      <td>44357.90</td>\n",
       "      <td>24472.12</td>\n",
       "      <td>50626.562</td>\n",
       "      <td>28964.852</td>\n",
       "    </tr>\n",
       "    <tr>\n",
       "      <th>4</th>\n",
       "      <td>25.74</td>\n",
       "      <td>62.93</td>\n",
       "      <td>542.0</td>\n",
       "      <td>1710.0</td>\n",
       "      <td>12878.0</td>\n",
       "      <td>19426.0</td>\n",
       "      <td>14205.93</td>\n",
       "      <td>43765.07</td>\n",
       "      <td>24896.17</td>\n",
       "      <td>49936.551</td>\n",
       "      <td>28499.859</td>\n",
       "    </tr>\n",
       "  </tbody>\n",
       "</table>\n",
       "</div>"
      ],
      "text/plain": [
       "   Temperature[C]  Humidity[%]  TVOC[ppb]  eCO2[ppm]   Raw H2  Raw Ethanol   \n",
       "0           23.41        69.47       43.0     1120.0  13105.0      19890.0  \\\n",
       "1           23.00        70.28       50.0     1137.0  13094.0      19887.0   \n",
       "2           23.66        68.41       52.0     1141.0  13100.0      19882.0   \n",
       "3           25.86        62.03      546.0     1777.0  12872.0      19414.0   \n",
       "4           25.74        62.93      542.0     1710.0  12878.0      19426.0   \n",
       "\n",
       "      PM1.0     PM2.5     NC0.5      NC1.0      NC2.5  \n",
       "0  14299.14  45432.26  21592.18  51914.680  30026.438  \n",
       "1  14333.69  45018.38  22959.95  51413.852  29590.688  \n",
       "2  14149.05  44786.43  21789.97  51167.711  29547.281  \n",
       "3  14318.17  44357.90  24472.12  50626.562  28964.852  \n",
       "4  14205.93  43765.07  24896.17  49936.551  28499.859  "
      ]
     },
     "execution_count": 36,
     "metadata": {},
     "output_type": "execute_result"
    }
   ],
   "source": [
    "X_vt = pd.DataFrame(X_vt, columns=vt.get_feature_names_out())\n",
    "X_vt.head()"
   ]
  },
  {
   "cell_type": "code",
   "execution_count": 37,
   "id": "a1fcfd84",
   "metadata": {},
   "outputs": [
    {
     "name": "stdout",
     "output_type": "stream",
     "text": [
      "              precision    recall  f1-score   support\n",
      "\n",
      "         0.0       0.77      1.00      0.87      4046\n",
      "         1.0       1.00      0.77      0.87      5349\n",
      "\n",
      "    accuracy                           0.87      9395\n",
      "   macro avg       0.88      0.89      0.87      9395\n",
      "weighted avg       0.90      0.87      0.87      9395\n",
      "\n"
     ]
    }
   ],
   "source": [
    "test(X_vt, y_clr)"
   ]
  },
  {
   "cell_type": "code",
   "execution_count": 38,
   "id": "46176b17",
   "metadata": {},
   "outputs": [
    {
     "name": "stderr",
     "output_type": "stream",
     "text": [
      "C:\\Users\\verab\\Desktop\\не долги\\4 семестр\\ML\\venv\\lib\\site-packages\\sklearn\\base.py:439: UserWarning: X does not have valid feature names, but MinMaxScaler was fitted with feature names\n",
      "  warnings.warn(\n"
     ]
    },
    {
     "data": {
      "text/html": [
       "<div>\n",
       "<style scoped>\n",
       "    .dataframe tbody tr th:only-of-type {\n",
       "        vertical-align: middle;\n",
       "    }\n",
       "\n",
       "    .dataframe tbody tr th {\n",
       "        vertical-align: top;\n",
       "    }\n",
       "\n",
       "    .dataframe thead th {\n",
       "        text-align: right;\n",
       "    }\n",
       "</style>\n",
       "<table border=\"1\" class=\"dataframe\">\n",
       "  <thead>\n",
       "    <tr style=\"text-align: right;\">\n",
       "      <th></th>\n",
       "      <th>Temperature[C]</th>\n",
       "      <th>Humidity[%]</th>\n",
       "      <th>TVOC[ppb]</th>\n",
       "      <th>eCO2[ppm]</th>\n",
       "      <th>Raw H2</th>\n",
       "      <th>Raw Ethanol</th>\n",
       "      <th>Pressure[hPa]</th>\n",
       "      <th>PM1.0</th>\n",
       "      <th>PM2.5</th>\n",
       "      <th>NC0.5</th>\n",
       "      <th>NC1.0</th>\n",
       "      <th>NC2.5</th>\n",
       "    </tr>\n",
       "  </thead>\n",
       "  <tbody>\n",
       "    <tr>\n",
       "      <th>0</th>\n",
       "      <td>0.275376</td>\n",
       "      <td>-0.152480</td>\n",
       "      <td>1.194444e-08</td>\n",
       "      <td>-0.006711</td>\n",
       "      <td>-3.402623</td>\n",
       "      <td>-2.513745</td>\n",
       "      <td>-103.319907</td>\n",
       "      <td>0.000070</td>\n",
       "      <td>0.000022</td>\n",
       "      <td>0.000006</td>\n",
       "      <td>1.926237e-05</td>\n",
       "      <td>0.000033</td>\n",
       "    </tr>\n",
       "    <tr>\n",
       "      <th>1</th>\n",
       "      <td>0.275315</td>\n",
       "      <td>-0.152286</td>\n",
       "      <td>1.388889e-08</td>\n",
       "      <td>-0.006711</td>\n",
       "      <td>-3.402624</td>\n",
       "      <td>-2.513745</td>\n",
       "      <td>-103.319870</td>\n",
       "      <td>0.000070</td>\n",
       "      <td>0.000022</td>\n",
       "      <td>0.000006</td>\n",
       "      <td>1.907655e-05</td>\n",
       "      <td>0.000033</td>\n",
       "    </tr>\n",
       "    <tr>\n",
       "      <th>2</th>\n",
       "      <td>0.275413</td>\n",
       "      <td>-0.152736</td>\n",
       "      <td>1.444444e-08</td>\n",
       "      <td>-0.006711</td>\n",
       "      <td>-3.402623</td>\n",
       "      <td>-2.513745</td>\n",
       "      <td>-103.319759</td>\n",
       "      <td>0.000069</td>\n",
       "      <td>0.000022</td>\n",
       "      <td>0.000006</td>\n",
       "      <td>1.898522e-05</td>\n",
       "      <td>0.000033</td>\n",
       "    </tr>\n",
       "    <tr>\n",
       "      <th>3</th>\n",
       "      <td>0.275741</td>\n",
       "      <td>-0.154271</td>\n",
       "      <td>1.516667e-07</td>\n",
       "      <td>-0.006711</td>\n",
       "      <td>-3.402647</td>\n",
       "      <td>-2.513758</td>\n",
       "      <td>-103.320227</td>\n",
       "      <td>0.000070</td>\n",
       "      <td>0.000021</td>\n",
       "      <td>0.000006</td>\n",
       "      <td>1.878443e-05</td>\n",
       "      <td>0.000032</td>\n",
       "    </tr>\n",
       "    <tr>\n",
       "      <th>4</th>\n",
       "      <td>0.275723</td>\n",
       "      <td>-0.154054</td>\n",
       "      <td>1.505556e-07</td>\n",
       "      <td>-0.006711</td>\n",
       "      <td>-3.402646</td>\n",
       "      <td>-2.513758</td>\n",
       "      <td>-103.320203</td>\n",
       "      <td>0.000069</td>\n",
       "      <td>0.000021</td>\n",
       "      <td>0.000007</td>\n",
       "      <td>1.852841e-05</td>\n",
       "      <td>0.000032</td>\n",
       "    </tr>\n",
       "    <tr>\n",
       "      <th>...</th>\n",
       "      <td>...</td>\n",
       "      <td>...</td>\n",
       "      <td>...</td>\n",
       "      <td>...</td>\n",
       "      <td>...</td>\n",
       "      <td>...</td>\n",
       "      <td>...</td>\n",
       "      <td>...</td>\n",
       "      <td>...</td>\n",
       "      <td>...</td>\n",
       "      <td>...</td>\n",
       "      <td>...</td>\n",
       "    </tr>\n",
       "    <tr>\n",
       "      <th>62625</th>\n",
       "      <td>0.273826</td>\n",
       "      <td>-0.156396</td>\n",
       "      <td>0.000000e+00</td>\n",
       "      <td>-0.006711</td>\n",
       "      <td>-3.402691</td>\n",
       "      <td>-2.513766</td>\n",
       "      <td>-103.214944</td>\n",
       "      <td>0.000000</td>\n",
       "      <td>0.000000</td>\n",
       "      <td>0.000000</td>\n",
       "      <td>0.000000e+00</td>\n",
       "      <td>0.000000</td>\n",
       "    </tr>\n",
       "    <tr>\n",
       "      <th>62626</th>\n",
       "      <td>0.273834</td>\n",
       "      <td>-0.156490</td>\n",
       "      <td>0.000000e+00</td>\n",
       "      <td>-0.006711</td>\n",
       "      <td>-3.402690</td>\n",
       "      <td>-2.513765</td>\n",
       "      <td>-103.214944</td>\n",
       "      <td>0.000000</td>\n",
       "      <td>0.000000</td>\n",
       "      <td>0.000000</td>\n",
       "      <td>0.000000e+00</td>\n",
       "      <td>0.000000</td>\n",
       "    </tr>\n",
       "    <tr>\n",
       "      <th>62627</th>\n",
       "      <td>0.273648</td>\n",
       "      <td>-0.157048</td>\n",
       "      <td>8.611111e-09</td>\n",
       "      <td>-0.006711</td>\n",
       "      <td>-3.402680</td>\n",
       "      <td>-2.513752</td>\n",
       "      <td>-103.214304</td>\n",
       "      <td>0.000000</td>\n",
       "      <td>0.000000</td>\n",
       "      <td>0.000000</td>\n",
       "      <td>3.710391e-13</td>\n",
       "      <td>0.000000</td>\n",
       "    </tr>\n",
       "    <tr>\n",
       "      <th>62628</th>\n",
       "      <td>0.273630</td>\n",
       "      <td>-0.156906</td>\n",
       "      <td>7.777778e-09</td>\n",
       "      <td>-0.006711</td>\n",
       "      <td>-3.402680</td>\n",
       "      <td>-2.513752</td>\n",
       "      <td>-103.214205</td>\n",
       "      <td>0.000000</td>\n",
       "      <td>0.000000</td>\n",
       "      <td>0.000000</td>\n",
       "      <td>3.710391e-13</td>\n",
       "      <td>0.000000</td>\n",
       "    </tr>\n",
       "    <tr>\n",
       "      <th>62629</th>\n",
       "      <td>0.274868</td>\n",
       "      <td>-0.155395</td>\n",
       "      <td>0.000000e+00</td>\n",
       "      <td>-0.006711</td>\n",
       "      <td>-3.402704</td>\n",
       "      <td>-2.513782</td>\n",
       "      <td>-103.215228</td>\n",
       "      <td>0.000000</td>\n",
       "      <td>0.000000</td>\n",
       "      <td>0.000000</td>\n",
       "      <td>0.000000e+00</td>\n",
       "      <td>0.000000</td>\n",
       "    </tr>\n",
       "  </tbody>\n",
       "</table>\n",
       "<p>62630 rows × 12 columns</p>\n",
       "</div>"
      ],
      "text/plain": [
       "       Temperature[C]  Humidity[%]     TVOC[ppb]  eCO2[ppm]    Raw H2   \n",
       "0            0.275376    -0.152480  1.194444e-08  -0.006711 -3.402623  \\\n",
       "1            0.275315    -0.152286  1.388889e-08  -0.006711 -3.402624   \n",
       "2            0.275413    -0.152736  1.444444e-08  -0.006711 -3.402623   \n",
       "3            0.275741    -0.154271  1.516667e-07  -0.006711 -3.402647   \n",
       "4            0.275723    -0.154054  1.505556e-07  -0.006711 -3.402646   \n",
       "...               ...          ...           ...        ...       ...   \n",
       "62625        0.273826    -0.156396  0.000000e+00  -0.006711 -3.402691   \n",
       "62626        0.273834    -0.156490  0.000000e+00  -0.006711 -3.402690   \n",
       "62627        0.273648    -0.157048  8.611111e-09  -0.006711 -3.402680   \n",
       "62628        0.273630    -0.156906  7.777778e-09  -0.006711 -3.402680   \n",
       "62629        0.274868    -0.155395  0.000000e+00  -0.006711 -3.402704   \n",
       "\n",
       "       Raw Ethanol  Pressure[hPa]     PM1.0     PM2.5     NC0.5         NC1.0   \n",
       "0        -2.513745    -103.319907  0.000070  0.000022  0.000006  1.926237e-05  \\\n",
       "1        -2.513745    -103.319870  0.000070  0.000022  0.000006  1.907655e-05   \n",
       "2        -2.513745    -103.319759  0.000069  0.000022  0.000006  1.898522e-05   \n",
       "3        -2.513758    -103.320227  0.000070  0.000021  0.000006  1.878443e-05   \n",
       "4        -2.513758    -103.320203  0.000069  0.000021  0.000007  1.852841e-05   \n",
       "...            ...            ...       ...       ...       ...           ...   \n",
       "62625    -2.513766    -103.214944  0.000000  0.000000  0.000000  0.000000e+00   \n",
       "62626    -2.513765    -103.214944  0.000000  0.000000  0.000000  0.000000e+00   \n",
       "62627    -2.513752    -103.214304  0.000000  0.000000  0.000000  3.710391e-13   \n",
       "62628    -2.513752    -103.214205  0.000000  0.000000  0.000000  3.710391e-13   \n",
       "62629    -2.513782    -103.215228  0.000000  0.000000  0.000000  0.000000e+00   \n",
       "\n",
       "          NC2.5  \n",
       "0      0.000033  \n",
       "1      0.000033  \n",
       "2      0.000033  \n",
       "3      0.000032  \n",
       "4      0.000032  \n",
       "...         ...  \n",
       "62625  0.000000  \n",
       "62626  0.000000  \n",
       "62627  0.000000  \n",
       "62628  0.000000  \n",
       "62629  0.000000  \n",
       "\n",
       "[62630 rows x 12 columns]"
      ]
     },
     "execution_count": 38,
     "metadata": {},
     "output_type": "execute_result"
    }
   ],
   "source": [
    "#нормализация\n",
    "\n",
    "mms = MinMaxScaler() #инициализируем модель\n",
    "#нормализируем нашу выборку\n",
    "#для каждого значения вычтем его минимум и поделим на разницу максимума и минимума\n",
    "X_norms = mms.fit_transform(X_clr) #transform возвращает вложенные вычисления в каждой группе\n",
    "X_norms = pd.DataFrame(mms.transform(X_norms), columns=X_clr.columns)\n",
    "X_norms"
   ]
  },
  {
   "cell_type": "code",
   "execution_count": 39,
   "id": "49e38fc7",
   "metadata": {},
   "outputs": [
    {
     "name": "stdout",
     "output_type": "stream",
     "text": [
      "(62630, 3)\n",
      "              precision    recall  f1-score   support\n",
      "\n",
      "         0.0       0.94      0.99      0.97      4046\n",
      "         1.0       0.99      0.95      0.97      5349\n",
      "\n",
      "    accuracy                           0.97      9395\n",
      "   macro avg       0.97      0.97      0.97      9395\n",
      "weighted avg       0.97      0.97      0.97      9395\n",
      "\n"
     ]
    }
   ],
   "source": [
    "vt = VarianceThreshold(0.0000001)\n",
    "X_vt = vt.fit_transform(X_norms)\n",
    "print(X_vt.shape)\n",
    "test(X_vt, y_clr)"
   ]
  },
  {
   "cell_type": "markdown",
   "id": "90a515bd",
   "metadata": {},
   "source": [
    "### 2. Одномерный отбор признаков"
   ]
  },
  {
   "cell_type": "markdown",
   "id": "6f5737f4",
   "metadata": {},
   "source": [
    "Одномерный отбор признаков предполагает, что для каждого признака оценивается степень его влияния на целевую переменную. Признаки с небольшим влиянием удаляются. В качестве оценки обычно используются статистические тесты."
   ]
  },
  {
   "cell_type": "code",
   "execution_count": 40,
   "id": "52b80100",
   "metadata": {},
   "outputs": [],
   "source": [
    "from sklearn.feature_selection import SelectKBest"
   ]
  },
  {
   "cell_type": "code",
   "execution_count": 41,
   "id": "2621e3bd",
   "metadata": {},
   "outputs": [
    {
     "name": "stdout",
     "output_type": "stream",
     "text": [
      "              precision    recall  f1-score   support\n",
      "\n",
      "         0.0       0.91      1.00      0.95      4046\n",
      "         1.0       1.00      0.93      0.96      5349\n",
      "\n",
      "    accuracy                           0.96      9395\n",
      "   macro avg       0.95      0.96      0.96      9395\n",
      "weighted avg       0.96      0.96      0.96      9395\n",
      "\n"
     ]
    }
   ],
   "source": [
    "skb = SelectKBest(k=5)\n",
    "X_skb = skb.fit_transform(X_clr, y_clr)\n",
    "test(X_skb, y_clr)"
   ]
  },
  {
   "cell_type": "code",
   "execution_count": 42,
   "id": "0c7e9d00",
   "metadata": {},
   "outputs": [
    {
     "data": {
      "text/html": [
       "<div>\n",
       "<style scoped>\n",
       "    .dataframe tbody tr th:only-of-type {\n",
       "        vertical-align: middle;\n",
       "    }\n",
       "\n",
       "    .dataframe tbody tr th {\n",
       "        vertical-align: top;\n",
       "    }\n",
       "\n",
       "    .dataframe thead th {\n",
       "        text-align: right;\n",
       "    }\n",
       "</style>\n",
       "<table border=\"1\" class=\"dataframe\">\n",
       "  <thead>\n",
       "    <tr style=\"text-align: right;\">\n",
       "      <th></th>\n",
       "      <th>Temperature[C]</th>\n",
       "      <th>Humidity[%]</th>\n",
       "      <th>TVOC[ppb]</th>\n",
       "      <th>Raw Ethanol</th>\n",
       "      <th>Pressure[hPa]</th>\n",
       "    </tr>\n",
       "  </thead>\n",
       "  <tbody>\n",
       "    <tr>\n",
       "      <th>0</th>\n",
       "      <td>23.41</td>\n",
       "      <td>69.47</td>\n",
       "      <td>43.0</td>\n",
       "      <td>19890.0</td>\n",
       "      <td>931.239</td>\n",
       "    </tr>\n",
       "    <tr>\n",
       "      <th>1</th>\n",
       "      <td>23.00</td>\n",
       "      <td>70.28</td>\n",
       "      <td>50.0</td>\n",
       "      <td>19887.0</td>\n",
       "      <td>931.242</td>\n",
       "    </tr>\n",
       "    <tr>\n",
       "      <th>2</th>\n",
       "      <td>23.66</td>\n",
       "      <td>68.41</td>\n",
       "      <td>52.0</td>\n",
       "      <td>19882.0</td>\n",
       "      <td>931.251</td>\n",
       "    </tr>\n",
       "    <tr>\n",
       "      <th>3</th>\n",
       "      <td>25.86</td>\n",
       "      <td>62.03</td>\n",
       "      <td>546.0</td>\n",
       "      <td>19414.0</td>\n",
       "      <td>931.213</td>\n",
       "    </tr>\n",
       "    <tr>\n",
       "      <th>4</th>\n",
       "      <td>25.74</td>\n",
       "      <td>62.93</td>\n",
       "      <td>542.0</td>\n",
       "      <td>19426.0</td>\n",
       "      <td>931.215</td>\n",
       "    </tr>\n",
       "    <tr>\n",
       "      <th>...</th>\n",
       "      <td>...</td>\n",
       "      <td>...</td>\n",
       "      <td>...</td>\n",
       "      <td>...</td>\n",
       "      <td>...</td>\n",
       "    </tr>\n",
       "    <tr>\n",
       "      <th>62625</th>\n",
       "      <td>13.00</td>\n",
       "      <td>53.20</td>\n",
       "      <td>0.0</td>\n",
       "      <td>19114.0</td>\n",
       "      <td>939.758</td>\n",
       "    </tr>\n",
       "    <tr>\n",
       "      <th>62626</th>\n",
       "      <td>13.06</td>\n",
       "      <td>52.81</td>\n",
       "      <td>0.0</td>\n",
       "      <td>19155.0</td>\n",
       "      <td>939.758</td>\n",
       "    </tr>\n",
       "    <tr>\n",
       "      <th>62627</th>\n",
       "      <td>11.81</td>\n",
       "      <td>50.49</td>\n",
       "      <td>31.0</td>\n",
       "      <td>19632.0</td>\n",
       "      <td>939.810</td>\n",
       "    </tr>\n",
       "    <tr>\n",
       "      <th>62628</th>\n",
       "      <td>11.69</td>\n",
       "      <td>51.08</td>\n",
       "      <td>28.0</td>\n",
       "      <td>19631.0</td>\n",
       "      <td>939.818</td>\n",
       "    </tr>\n",
       "    <tr>\n",
       "      <th>62629</th>\n",
       "      <td>20.00</td>\n",
       "      <td>57.36</td>\n",
       "      <td>0.0</td>\n",
       "      <td>18520.0</td>\n",
       "      <td>939.735</td>\n",
       "    </tr>\n",
       "  </tbody>\n",
       "</table>\n",
       "<p>62630 rows × 5 columns</p>\n",
       "</div>"
      ],
      "text/plain": [
       "       Temperature[C]  Humidity[%]  TVOC[ppb]  Raw Ethanol  Pressure[hPa]\n",
       "0               23.41        69.47       43.0      19890.0        931.239\n",
       "1               23.00        70.28       50.0      19887.0        931.242\n",
       "2               23.66        68.41       52.0      19882.0        931.251\n",
       "3               25.86        62.03      546.0      19414.0        931.213\n",
       "4               25.74        62.93      542.0      19426.0        931.215\n",
       "...               ...          ...        ...          ...            ...\n",
       "62625           13.00        53.20        0.0      19114.0        939.758\n",
       "62626           13.06        52.81        0.0      19155.0        939.758\n",
       "62627           11.81        50.49       31.0      19632.0        939.810\n",
       "62628           11.69        51.08       28.0      19631.0        939.818\n",
       "62629           20.00        57.36        0.0      18520.0        939.735\n",
       "\n",
       "[62630 rows x 5 columns]"
      ]
     },
     "execution_count": 42,
     "metadata": {},
     "output_type": "execute_result"
    }
   ],
   "source": [
    "X_skb = pd.DataFrame(X_skb, columns=skb.get_feature_names_out())\n",
    "X_skb"
   ]
  },
  {
   "cell_type": "markdown",
   "id": "44fede4a",
   "metadata": {},
   "source": [
    "### 3. Рекурсивный отбор признаков"
   ]
  },
  {
   "cell_type": "markdown",
   "id": "774ea9c3",
   "metadata": {},
   "source": [
    "Рекурсивный отбор признаков предполагает обучение множества моделей. Сначала модель обучается на всех признаках, а затем мы начинаем исключать из модели признаки с низкой значимостью. Делаем это до тех пор, пока не останется столько признаков, сколько нам нужно получить\n",
    "\n",
    "Важный момент состоит в том, каким образом мы исключаем признаки. Происходит это на основе значения значимости признака. Обученные регрессионные модели и деревья решений хранят информацию о значимости признаков (коэффициенты в линейных моделях и значения значимости признаков у деревьев). Можно отсортировать признаки по этим значениям и производить отбор"
   ]
  },
  {
   "cell_type": "code",
   "execution_count": 43,
   "id": "4699ca25",
   "metadata": {},
   "outputs": [],
   "source": [
    "from sklearn.feature_selection import RFE\n",
    "from sklearn.tree import DecisionTreeClassifier"
   ]
  },
  {
   "cell_type": "code",
   "execution_count": 44,
   "id": "1c39d5a5",
   "metadata": {},
   "outputs": [],
   "source": [
    "tree = DecisionTreeClassifier().fit(X_clr, y_clr)"
   ]
  },
  {
   "cell_type": "code",
   "execution_count": 45,
   "id": "0c3cd282",
   "metadata": {},
   "outputs": [
    {
     "data": {
      "text/html": [
       "<div>\n",
       "<style scoped>\n",
       "    .dataframe tbody tr th:only-of-type {\n",
       "        vertical-align: middle;\n",
       "    }\n",
       "\n",
       "    .dataframe tbody tr th {\n",
       "        vertical-align: top;\n",
       "    }\n",
       "\n",
       "    .dataframe thead th {\n",
       "        text-align: right;\n",
       "    }\n",
       "</style>\n",
       "<table border=\"1\" class=\"dataframe\">\n",
       "  <thead>\n",
       "    <tr style=\"text-align: right;\">\n",
       "      <th></th>\n",
       "      <th>TVOC[ppb]</th>\n",
       "      <th>Raw Ethanol</th>\n",
       "      <th>Pressure[hPa]</th>\n",
       "      <th>NC0.5</th>\n",
       "    </tr>\n",
       "  </thead>\n",
       "  <tbody>\n",
       "    <tr>\n",
       "      <th>0</th>\n",
       "      <td>43.0</td>\n",
       "      <td>19890.0</td>\n",
       "      <td>931.239</td>\n",
       "      <td>21592.18</td>\n",
       "    </tr>\n",
       "    <tr>\n",
       "      <th>1</th>\n",
       "      <td>50.0</td>\n",
       "      <td>19887.0</td>\n",
       "      <td>931.242</td>\n",
       "      <td>22959.95</td>\n",
       "    </tr>\n",
       "    <tr>\n",
       "      <th>2</th>\n",
       "      <td>52.0</td>\n",
       "      <td>19882.0</td>\n",
       "      <td>931.251</td>\n",
       "      <td>21789.97</td>\n",
       "    </tr>\n",
       "    <tr>\n",
       "      <th>3</th>\n",
       "      <td>546.0</td>\n",
       "      <td>19414.0</td>\n",
       "      <td>931.213</td>\n",
       "      <td>24472.12</td>\n",
       "    </tr>\n",
       "    <tr>\n",
       "      <th>4</th>\n",
       "      <td>542.0</td>\n",
       "      <td>19426.0</td>\n",
       "      <td>931.215</td>\n",
       "      <td>24896.17</td>\n",
       "    </tr>\n",
       "    <tr>\n",
       "      <th>...</th>\n",
       "      <td>...</td>\n",
       "      <td>...</td>\n",
       "      <td>...</td>\n",
       "      <td>...</td>\n",
       "    </tr>\n",
       "    <tr>\n",
       "      <th>62625</th>\n",
       "      <td>0.0</td>\n",
       "      <td>19114.0</td>\n",
       "      <td>939.758</td>\n",
       "      <td>0.00</td>\n",
       "    </tr>\n",
       "    <tr>\n",
       "      <th>62626</th>\n",
       "      <td>0.0</td>\n",
       "      <td>19155.0</td>\n",
       "      <td>939.758</td>\n",
       "      <td>0.00</td>\n",
       "    </tr>\n",
       "    <tr>\n",
       "      <th>62627</th>\n",
       "      <td>31.0</td>\n",
       "      <td>19632.0</td>\n",
       "      <td>939.810</td>\n",
       "      <td>0.00</td>\n",
       "    </tr>\n",
       "    <tr>\n",
       "      <th>62628</th>\n",
       "      <td>28.0</td>\n",
       "      <td>19631.0</td>\n",
       "      <td>939.818</td>\n",
       "      <td>0.00</td>\n",
       "    </tr>\n",
       "    <tr>\n",
       "      <th>62629</th>\n",
       "      <td>0.0</td>\n",
       "      <td>18520.0</td>\n",
       "      <td>939.735</td>\n",
       "      <td>0.00</td>\n",
       "    </tr>\n",
       "  </tbody>\n",
       "</table>\n",
       "<p>62630 rows × 4 columns</p>\n",
       "</div>"
      ],
      "text/plain": [
       "       TVOC[ppb]  Raw Ethanol  Pressure[hPa]     NC0.5\n",
       "0           43.0      19890.0        931.239  21592.18\n",
       "1           50.0      19887.0        931.242  22959.95\n",
       "2           52.0      19882.0        931.251  21789.97\n",
       "3          546.0      19414.0        931.213  24472.12\n",
       "4          542.0      19426.0        931.215  24896.17\n",
       "...          ...          ...            ...       ...\n",
       "62625        0.0      19114.0        939.758      0.00\n",
       "62626        0.0      19155.0        939.758      0.00\n",
       "62627       31.0      19632.0        939.810      0.00\n",
       "62628       28.0      19631.0        939.818      0.00\n",
       "62629        0.0      18520.0        939.735      0.00\n",
       "\n",
       "[62630 rows x 4 columns]"
      ]
     },
     "execution_count": 45,
     "metadata": {},
     "output_type": "execute_result"
    }
   ],
   "source": [
    "rfe = RFE(estimator=tree, n_features_to_select=4, step=1).fit(X_clr, y_clr)\n",
    "X_rfe = pd.DataFrame(rfe.transform(X_clr), columns=rfe.get_feature_names_out())\n",
    "X_rfe"
   ]
  },
  {
   "cell_type": "code",
   "execution_count": 46,
   "id": "40013e35",
   "metadata": {},
   "outputs": [
    {
     "name": "stdout",
     "output_type": "stream",
     "text": [
      "              precision    recall  f1-score   support\n",
      "\n",
      "         0.0       0.63      1.00      0.78      4046\n",
      "         1.0       1.00      0.56      0.72      5349\n",
      "\n",
      "    accuracy                           0.75      9395\n",
      "   macro avg       0.82      0.78      0.75      9395\n",
      "weighted avg       0.84      0.75      0.74      9395\n",
      "\n"
     ]
    }
   ],
   "source": [
    "test(X_rfe, y_clr)"
   ]
  },
  {
   "cell_type": "markdown",
   "id": "148b25bb",
   "metadata": {},
   "source": [
    "### 4. Отбор признаков по их значимости"
   ]
  },
  {
   "cell_type": "markdown",
   "id": "607f1ed9",
   "metadata": {},
   "source": [
    "Во многих случаях можно не использовать рекурсивный отбор, а просто взять обученное дерево и сразу же взять нужное количество признаков с самой высокой значимостью"
   ]
  },
  {
   "cell_type": "code",
   "execution_count": 47,
   "id": "8e547cca",
   "metadata": {},
   "outputs": [],
   "source": [
    "import matplotlib.pyplot as plt"
   ]
  },
  {
   "cell_type": "code",
   "execution_count": 48,
   "id": "df91010a",
   "metadata": {},
   "outputs": [
    {
     "data": {
      "image/png": "[encoded data removed]",
      "text/plain": [
       "<Figure size 640x480 with 1 Axes>"
      ]
     },
     "metadata": {},
     "output_type": "display_data"
    }
   ],
   "source": [
    "plt.barh(width=tree.feature_importances_, y=X_clr.columns);"
   ]
  },
  {
   "cell_type": "markdown",
   "id": "61ad1792",
   "metadata": {},
   "source": [
    "## Выделение признаков"
   ]
  },
  {
   "cell_type": "markdown",
   "id": "2bfb40a4",
   "metadata": {},
   "source": [
    "В отличие от отбора признаков, когда мы исключаем из датасета ненужные признаки, при выделении **мы производим преобразование данных из пространства высокой размерности в пространство низкой размерности**. Важно понимать, что при таком подходе по сути мы вводим \"новые оси\". Это означает, что признаки в целевом пространстве мы уже не сможем интерпретировать"
   ]
  },
  {
   "cell_type": "markdown",
   "id": "f3e6656a",
   "metadata": {},
   "source": [
    "### 1. Метод главных компонент"
   ]
  },
  {
   "cell_type": "markdown",
   "id": "833197ea",
   "metadata": {},
   "source": [
    "Чтобы выполнить понижение размерности методом PCA необходимо последовательно выполнить следующие действия.\n",
    "\n",
    "1. Стандартизация данных (итерируемся по столбцам, от каждого элемента столбца отнимаем среднее по столбцу и делим на отклонение столбца - то, что делает StandartScaller).\n",
    "2. Вычисление ковариационной матрицы.\n",
    "3. Вычисление собственных векторов и собственных значений ковариационной матрицы.\n",
    "4. Сортировка пар <собственное значение, собственный вектор> по убыванию.\n",
    "5. Выбор первых k пар <собственное значение, собственный вектор>, где k - размерность целевого пространства.\n",
    "6. Матрица, составленная из k собственных векторов - матрица преобразования из данного пространства в пространство с размерностью k.\n",
    "7. Чтобы произвести понижение размерности необходимо умножить матрицу стандартизированных входных данных (результат пункта 1) на матрицу из k собственных векторов (результат пункта 6)."
   ]
  },
  {
   "cell_type": "code",
   "execution_count": 49,
   "id": "998a8854",
   "metadata": {},
   "outputs": [],
   "source": [
    "from sklearn.decomposition import PCA"
   ]
  },
  {
   "cell_type": "code",
   "execution_count": 50,
   "id": "0780f190",
   "metadata": {},
   "outputs": [
    {
     "data": {
      "text/plain": [
       "(62630, 2)"
      ]
     },
     "execution_count": 50,
     "metadata": {},
     "output_type": "execute_result"
    }
   ],
   "source": [
    "pca = PCA(n_components=2)\n",
    "X_pca = pca.fit_transform(X_clr, y_clr)\n",
    "X_pca.shape"
   ]
  },
  {
   "cell_type": "code",
   "execution_count": 51,
   "id": "5ced13d2",
   "metadata": {},
   "outputs": [
    {
     "data": {
      "image/png": "[encoded data removed]",
      "text/plain": [
       "<Figure size 640x480 with 1 Axes>"
      ]
     },
     "metadata": {},
     "output_type": "display_data"
    }
   ],
   "source": [
    "#визуализируем данные\n",
    "plt.scatter(X_pca[:,0], X_pca[:,1], c=y_clr);"
   ]
  },
  {
   "cell_type": "code",
   "execution_count": 52,
   "id": "24bfbaf2",
   "metadata": {},
   "outputs": [
    {
     "data": {
      "text/plain": [
       "0.9516286162519574"
      ]
     },
     "execution_count": 52,
     "metadata": {},
     "output_type": "execute_result"
    }
   ],
   "source": [
    "#оценим, сколько информации потеряли\n",
    "sum(pca.explained_variance_ratio_)"
   ]
  },
  {
   "cell_type": "markdown",
   "id": "3ae14333",
   "metadata": {},
   "source": [
    "Видно, что мы сохранили более 95% информации понизив размерность до 2 - попробуем выполнить классификацию"
   ]
  },
  {
   "cell_type": "code",
   "execution_count": 53,
   "id": "b45d779c",
   "metadata": {},
   "outputs": [
    {
     "name": "stdout",
     "output_type": "stream",
     "text": [
      "              precision    recall  f1-score   support\n",
      "\n",
      "         0.0       0.77      0.90      0.83      4046\n",
      "         1.0       0.91      0.80      0.85      5349\n",
      "\n",
      "    accuracy                           0.84      9395\n",
      "   macro avg       0.84      0.85      0.84      9395\n",
      "weighted avg       0.85      0.84      0.84      9395\n",
      "\n"
     ]
    }
   ],
   "source": [
    "test(X_pca, y_clr)"
   ]
  },
  {
   "cell_type": "code",
   "execution_count": 54,
   "id": "f3fc3bfa",
   "metadata": {},
   "outputs": [],
   "source": [
    "pca_2 = PCA(n_components=3)\n",
    "X_pca_2 = pca_2.fit_transform(X_clr, y_clr)"
   ]
  },
  {
   "cell_type": "code",
   "execution_count": 55,
   "id": "9680b52c",
   "metadata": {},
   "outputs": [
    {
     "name": "stdout",
     "output_type": "stream",
     "text": [
      "              precision    recall  f1-score   support\n",
      "\n",
      "         0.0       0.72      0.99      0.84      4046\n",
      "         1.0       0.99      0.71      0.83      5349\n",
      "\n",
      "    accuracy                           0.83      9395\n",
      "   macro avg       0.86      0.85      0.83      9395\n",
      "weighted avg       0.88      0.83      0.83      9395\n",
      "\n"
     ]
    }
   ],
   "source": [
    "test(X_pca_2, y_clr)"
   ]
  },
  {
   "cell_type": "code",
   "execution_count": 56,
   "id": "a835b3f6",
   "metadata": {},
   "outputs": [
    {
     "data": {
      "image/png": "[encoded data removed]",
      "text/plain": [
       "<Figure size 640x480 with 1 Axes>"
      ]
     },
     "metadata": {},
     "output_type": "display_data"
    }
   ],
   "source": [
    "fig = plt.figure()\n",
    "ax = fig.add_subplot(projection='3d')\n",
    "ax.scatter(X_pca_2[:,0], X_pca_2[:,1], X_pca_2[:,2], c=y_clr);"
   ]
  },
  {
   "cell_type": "markdown",
   "id": "65e552f0",
   "metadata": {},
   "source": [
    "### 2. Нелинейные методы выделения признаков"
   ]
  },
  {
   "cell_type": "code",
   "execution_count": 57,
   "id": "ca2e7d73",
   "metadata": {},
   "outputs": [],
   "source": [
    "from sklearn.manifold import TSNE, Isomap"
   ]
  },
  {
   "cell_type": "code",
   "execution_count": 58,
   "id": "4949c445",
   "metadata": {},
   "outputs": [],
   "source": [
    "tsne = TSNE(n_components=2)\n",
    "X_tsne = tsne.fit_transform(X_norms)"
   ]
  },
  {
   "cell_type": "code",
   "execution_count": 59,
   "id": "884f387a",
   "metadata": {},
   "outputs": [
    {
     "data": {
      "image/png": "[encoded data removed]",
      "text/plain": [
       "<Figure size 640x480 with 1 Axes>"
      ]
     },
     "metadata": {},
     "output_type": "display_data"
    }
   ],
   "source": [
    "plt.scatter(X_tsne[:,0], X_tsne[:,1], c=y_clr);"
   ]
  },
  {
   "cell_type": "code",
   "execution_count": 60,
   "id": "32efb9b7",
   "metadata": {},
   "outputs": [
    {
     "name": "stdout",
     "output_type": "stream",
     "text": [
      "              precision    recall  f1-score   support\n",
      "\n",
      "         0.0       0.90      0.94      0.92      4046\n",
      "         1.0       0.96      0.92      0.94      5349\n",
      "\n",
      "    accuracy                           0.93      9395\n",
      "   macro avg       0.93      0.93      0.93      9395\n",
      "weighted avg       0.93      0.93      0.93      9395\n",
      "\n"
     ]
    }
   ],
   "source": [
    "test(X_tsne, y_clr)"
   ]
  },
  {
   "cell_type": "code",
   "execution_count": 63,
   "id": "56c8140a",
   "metadata": {},
   "outputs": [],
   "source": [
    "from sklearn.cluster import KMeans\n",
    "from sklearn.metrics import silhouette_score"
   ]
  },
  {
   "cell_type": "code",
   "execution_count": 64,
   "id": "879ba0de",
   "metadata": {},
   "outputs": [
    {
     "name": "stderr",
     "output_type": "stream",
     "text": [
      "C:\\Users\\verab\\Desktop\\не долги\\4 семестр\\ML\\venv\\lib\\site-packages\\sklearn\\cluster\\_kmeans.py:870: FutureWarning: The default value of `n_init` will change from 10 to 'auto' in 1.4. Set the value of `n_init` explicitly to suppress the warning\n",
      "  warnings.warn(\n"
     ]
    },
    {
     "data": {
      "image/png": "[encoded data removed]",
      "text/plain": [
       "<Figure size 640x480 with 1 Axes>"
      ]
     },
     "metadata": {},
     "output_type": "display_data"
    }
   ],
   "source": [
    "kmeans = KMeans(n_clusters=8).fit(X_tsne)\n",
    "plt.scatter(X_tsne[:,0], X_tsne[:,1], c=kmeans.labels_)\n",
    "plt.scatter(kmeans.cluster_centers_[:,0], kmeans.cluster_centers_[:,1], c='pink', s=200);"
   ]
  },
  {
   "cell_type": "markdown",
   "id": "eecf406d",
   "metadata": {},
   "source": [
    "# Выберите две модели (одна - для регрессии и другая - для классификации). Обучите выбранные модели с использованием данных в пространстве низкой размерности"
   ]
  },
  {
   "cell_type": "markdown",
   "id": "74ad2283",
   "metadata": {},
   "source": [
    "## Для классификации - наивный *Байес*"
   ]
  },
  {
   "cell_type": "markdown",
   "id": "d6754e78",
   "metadata": {},
   "source": [
    "1"
   ]
  },
  {
   "cell_type": "code",
   "execution_count": 66,
   "id": "d515d249",
   "metadata": {},
   "outputs": [],
   "source": [
    "X_train_cl, X_test_cl, y_train_cl, y_test_cl = train_test_split(X_vt, y_clr, test_size=0.2)"
   ]
  },
  {
   "cell_type": "code",
   "execution_count": 67,
   "id": "526fce8d",
   "metadata": {},
   "outputs": [],
   "source": [
    "gnb = GaussianNB().fit(X_train_cl, y_train_cl)\n",
    "gnb_predict = gnb.predict(X_test_cl)"
   ]
  },
  {
   "cell_type": "code",
   "execution_count": 68,
   "id": "209ba1d5",
   "metadata": {},
   "outputs": [
    {
     "name": "stdout",
     "output_type": "stream",
     "text": [
      "              precision    recall  f1-score   support\n",
      "\n",
      "         0.0       0.82      0.32      0.46      3555\n",
      "         1.0       0.78      0.97      0.87      8971\n",
      "\n",
      "    accuracy                           0.79     12526\n",
      "   macro avg       0.80      0.65      0.66     12526\n",
      "weighted avg       0.79      0.79      0.75     12526\n",
      "\n"
     ]
    }
   ],
   "source": [
    "print(metrics.classification_report(y_test_cl, gnb_predict))"
   ]
  },
  {
   "cell_type": "markdown",
   "id": "b4c32205",
   "metadata": {},
   "source": [
    "2"
   ]
  },
  {
   "cell_type": "code",
   "execution_count": 72,
   "id": "9c98c9ad",
   "metadata": {},
   "outputs": [],
   "source": [
    "X_train_cl, X_test_cl, y_train_cl, y_test_cl = train_test_split(X_skb, y_clr, test_size=0.2)"
   ]
  },
  {
   "cell_type": "code",
   "execution_count": 73,
   "id": "b3f5f163",
   "metadata": {},
   "outputs": [],
   "source": [
    "gnb = GaussianNB().fit(X_train_cl, y_train_cl)\n",
    "gnb_predict = gnb.predict(X_test_cl)"
   ]
  },
  {
   "cell_type": "code",
   "execution_count": 74,
   "id": "d9cbfa5a",
   "metadata": {},
   "outputs": [
    {
     "name": "stdout",
     "output_type": "stream",
     "text": [
      "              precision    recall  f1-score   support\n",
      "\n",
      "         0.0       0.90      0.57      0.70      3593\n",
      "         1.0       0.85      0.98      0.91      8933\n",
      "\n",
      "    accuracy                           0.86     12526\n",
      "   macro avg       0.88      0.77      0.80     12526\n",
      "weighted avg       0.86      0.86      0.85     12526\n",
      "\n"
     ]
    }
   ],
   "source": [
    "print(metrics.classification_report(y_test_cl, gnb_predict))"
   ]
  },
  {
   "cell_type": "markdown",
   "id": "76591d1f",
   "metadata": {},
   "source": [
    "3"
   ]
  },
  {
   "cell_type": "code",
   "execution_count": 76,
   "id": "713b9459",
   "metadata": {},
   "outputs": [],
   "source": [
    "X_train_cl, X_test_cl, y_train_cl, y_test_cl = train_test_split(X_rfe, y_clr, test_size=0.2)"
   ]
  },
  {
   "cell_type": "code",
   "execution_count": 77,
   "id": "d4d7f9cc",
   "metadata": {},
   "outputs": [],
   "source": [
    "gnb = GaussianNB().fit(X_train_cl, y_train_cl)\n",
    "gnb_predict = gnb.predict(X_test_cl)"
   ]
  },
  {
   "cell_type": "code",
   "execution_count": 78,
   "id": "7457c3d3",
   "metadata": {},
   "outputs": [
    {
     "name": "stdout",
     "output_type": "stream",
     "text": [
      "              precision    recall  f1-score   support\n",
      "\n",
      "         0.0       0.91      0.40      0.55      3587\n",
      "         1.0       0.80      0.98      0.88      8939\n",
      "\n",
      "    accuracy                           0.82     12526\n",
      "   macro avg       0.86      0.69      0.72     12526\n",
      "weighted avg       0.83      0.82      0.79     12526\n",
      "\n"
     ]
    }
   ],
   "source": [
    "print(metrics.classification_report(y_test_cl, gnb_predict))"
   ]
  },
  {
   "cell_type": "markdown",
   "id": "f108f3f8",
   "metadata": {},
   "source": [
    "4"
   ]
  },
  {
   "cell_type": "code",
   "execution_count": 80,
   "id": "8917f864",
   "metadata": {},
   "outputs": [],
   "source": [
    "X_train_cl, X_test_cl, y_train_cl, y_test_cl = train_test_split(X_pca, y_clr, test_size=0.2)"
   ]
  },
  {
   "cell_type": "code",
   "execution_count": 81,
   "id": "3e0aeed9",
   "metadata": {},
   "outputs": [],
   "source": [
    "gnb = GaussianNB().fit(X_train_cl, y_train_cl)\n",
    "gnb_predict = gnb.predict(X_test_cl)"
   ]
  },
  {
   "cell_type": "code",
   "execution_count": 82,
   "id": "e6e7b0b6",
   "metadata": {},
   "outputs": [
    {
     "name": "stdout",
     "output_type": "stream",
     "text": [
      "              precision    recall  f1-score   support\n",
      "\n",
      "         0.0       0.91      0.12      0.22      3524\n",
      "         1.0       0.74      1.00      0.85      9002\n",
      "\n",
      "    accuracy                           0.75     12526\n",
      "   macro avg       0.83      0.56      0.53     12526\n",
      "weighted avg       0.79      0.75      0.67     12526\n",
      "\n"
     ]
    }
   ],
   "source": [
    "print(metrics.classification_report(y_test_cl, gnb_predict))"
   ]
  },
  {
   "cell_type": "markdown",
   "id": "8b517056",
   "metadata": {},
   "source": [
    "5"
   ]
  },
  {
   "cell_type": "code",
   "execution_count": 84,
   "id": "ec770662",
   "metadata": {},
   "outputs": [],
   "source": [
    "X_train_cl, X_test_cl, y_train_cl, y_test_cl = train_test_split(X_tsne, y_clr, test_size=0.2)"
   ]
  },
  {
   "cell_type": "code",
   "execution_count": 85,
   "id": "02297c3c",
   "metadata": {},
   "outputs": [],
   "source": [
    "gbn = GaussianNB().fit(X_train_cl, y_train_cl)\n",
    "gnb_predict = gnb.predict(X_test_cl)"
   ]
  },
  {
   "cell_type": "code",
   "execution_count": 86,
   "id": "2b442595",
   "metadata": {},
   "outputs": [
    {
     "name": "stdout",
     "output_type": "stream",
     "text": [
      "              precision    recall  f1-score   support\n",
      "\n",
      "         0.0       0.00      0.00      0.00      3644\n",
      "         1.0       0.71      1.00      0.83      8882\n",
      "\n",
      "    accuracy                           0.71     12526\n",
      "   macro avg       0.35      0.50      0.41     12526\n",
      "weighted avg       0.50      0.71      0.59     12526\n",
      "\n"
     ]
    },
    {
     "name": "stderr",
     "output_type": "stream",
     "text": [
      "C:\\Users\\verab\\Desktop\\не долги\\4 семестр\\ML\\venv\\lib\\site-packages\\sklearn\\metrics\\_classification.py:1344: UndefinedMetricWarning: Precision and F-score are ill-defined and being set to 0.0 in labels with no predicted samples. Use `zero_division` parameter to control this behavior.\n",
      "  _warn_prf(average, modifier, msg_start, len(result))\n",
      "C:\\Users\\verab\\Desktop\\не долги\\4 семестр\\ML\\venv\\lib\\site-packages\\sklearn\\metrics\\_classification.py:1344: UndefinedMetricWarning: Precision and F-score are ill-defined and being set to 0.0 in labels with no predicted samples. Use `zero_division` parameter to control this behavior.\n",
      "  _warn_prf(average, modifier, msg_start, len(result))\n",
      "C:\\Users\\verab\\Desktop\\не долги\\4 семестр\\ML\\venv\\lib\\site-packages\\sklearn\\metrics\\_classification.py:1344: UndefinedMetricWarning: Precision and F-score are ill-defined and being set to 0.0 in labels with no predicted samples. Use `zero_division` parameter to control this behavior.\n",
      "  _warn_prf(average, modifier, msg_start, len(result))\n"
     ]
    }
   ],
   "source": [
    "print(metrics.classification_report(y_test_cl, gnb_predict))"
   ]
  },
  {
   "cell_type": "markdown",
   "id": "1774b0d3",
   "metadata": {},
   "source": [
    "# Самостоятельно реализуйте алгоритм PCA. Выполните с его помощью понижение размерности датасета для классификации до 2 (преобразуйте данные в двумерное пространство). Выполните визуализацию данных (точки на плоскости)."
   ]
  },
  {
   "cell_type": "code",
   "execution_count": 88,
   "id": "a9188635",
   "metadata": {},
   "outputs": [],
   "source": [
    "def PCA(X, y, k):\n",
    "\n",
    "    X_mean = X - np.mean(X, axis = 0) # стандартизация данных, отнимает среднее \n",
    "\n",
    "    cov_mat = np.cov(X_mean, rowvar = False) # вычисление ковариационной матрицы\n",
    "    \n",
    "    eigen_values , eigen_vectors = np.linalg.eigh(cov_mat) # вычисление собсвенных значений и собсвенных векторов (они ортогональны, каждый вектор представляет главную ось)\n",
    "\n",
    "    sorted_index = np.argsort(eigen_values)[::-1] # отсортируем собственные значения и векторы по убыванию\n",
    "    sorted_eigen_values = eigen_values[sorted_index]\n",
    "    sorted_eigen_vectors = eigen_vectors[:,sorted_index]\n",
    "\n",
    "    eigen_vector_k_dimention = sorted_eigen_vectors[:,0:k] # выберем первые k компонентов\n",
    "\n",
    "    X_reduced_dim = np.dot(eigen_vector_k_dimention.transpose() , X_mean.transpose()).transpose() # умножим матрицу стандартизированных входных данных (результат пункта 1) на матрицу из k собственных векторо    \n",
    "    \n",
    "    # Визуализация \n",
    "    plt.scatter(X_reduced_dim[:,0], X_reduced_dim[:,1], c=y);\n",
    "\n",
    "    return X_reduced_dim"
   ]
  },
  {
   "cell_type": "code",
   "execution_count": 90,
   "id": "d58dbef9",
   "metadata": {},
   "outputs": [
    {
     "data": {
      "image/png": "[encoded data removed]",
      "text/plain": [
       "<Figure size 640x480 with 1 Axes>"
      ]
     },
     "metadata": {},
     "output_type": "display_data"
    }
   ],
   "source": [
    "x_class = PCA(X_clr, y_clr, 2)"
   ]
  },
  {
   "cell_type": "code",
   "execution_count": 91,
   "id": "981e2bd3",
   "metadata": {},
   "outputs": [
    {
     "data": {
      "text/plain": [
       "array([[-24458.82066466, -60289.66740759],\n",
       "       [-24849.6431417 , -60696.46124582],\n",
       "       [-24296.7554053 , -59745.41367232],\n",
       "       ...,\n",
       "       [  1946.15102482,   -379.14125734],\n",
       "       [  1947.57069671,   -381.70272793],\n",
       "       [  1921.76791802,   -379.97526639]])"
      ]
     },
     "execution_count": 91,
     "metadata": {},
     "output_type": "execute_result"
    }
   ],
   "source": [
    "x_class"
   ]
  },
  {
   "cell_type": "code",
   "execution_count": 93,
   "id": "3b6ba2cc",
   "metadata": {},
   "outputs": [
    {
     "data": {
      "text/plain": [
       "array([1., 1., 1., ..., 0., 0., 0.])"
      ]
     },
     "execution_count": 93,
     "metadata": {},
     "output_type": "execute_result"
    }
   ],
   "source": [
    "y_clr.to_numpy()"
   ]
  },
  {
   "cell_type": "markdown",
   "id": "9ed0a346",
   "metadata": {},
   "source": [
    "# Попробуйте выполнить кластеризацию преобразованных в пункте 5 данных с помощью вашей реализации алгоритма KMeans из ЛР6."
   ]
  },
  {
   "cell_type": "code",
   "execution_count": 94,
   "id": "105b9150",
   "metadata": {},
   "outputs": [],
   "source": [
    "class KMeans():\n",
    "    def __init__(self, n_clusters=3, max_iters=1000):\n",
    "        self.n_clusters = n_clusters\n",
    "        self.max_iters = max_iters\n",
    "        self.labels = None\n",
    "        self.iters = 0\n",
    "        self.inertia = None\n",
    "        \n",
    "    def fit(self, data):\n",
    "        data_bounds = np.squeeze(np.sort(np.array([np.amax(data[0], axis=0), np.amin(data[0], axis=0)]).T))\n",
    "        self.centroids = []\n",
    "        self.labels = np.zeros(data[0].shape[0])\n",
    "        \n",
    "        for i in range(self.n_clusters):\n",
    "            self.centroids.append([(data_bounds[i][1] - data_bounds[i][0]) * np.random.random_sample() + data_bounds[i][0] for i in range(data[0].shape[1])])\n",
    "        \n",
    "        self.centroids = np.array(self.centroids)\n",
    "        change = np.inf # для разницы между пред центроидами и новыми (среднее)\n",
    "        \n",
    "        while (self.iters < self.max_iters and change > 0.5): # пока есть запланированное кол-во итераций или изменение центроидов значительно:\n",
    "            prev_centroids = self.centroids.copy()\n",
    "            dists = []\n",
    "            min_dists = []\n",
    "            \n",
    "            for point in data[0]:\n",
    "                dists_centroids = []\n",
    "                for centroid in self.centroids:\n",
    "                    dists_centroids.append(np.linalg.norm(point - centroid))\n",
    "                dists.append(dists_centroids)\n",
    "                \n",
    "            for i in range(len(dists)):\n",
    "                self.labels[i] = np.argmin(dists[i]) # вернем и присвоим самое небольшое значение \n",
    "                min_dists.append(dists[i][np.argmin(dists[i])]) # для вычисления метрики\n",
    "            self.inertia = np.sum(np.square((min_dists))) # наша метрика\n",
    "            \n",
    "            for i in range(self.n_clusters): \n",
    "                cluster_points = []\n",
    "                for j in range(len(self.labels)):\n",
    "                    if self.labels[j] == i:\n",
    "                        cluster_points.append(data[0][j]) # пересчитываем центроид, не используя евклидому метрику, а используя среднее для каждой \n",
    "                self.centroids[i] = np.mean(cluster_points, axis=0) # из координат среди всех тех точек, которые попали в кластер i\n",
    "                \n",
    "\n",
    "\n",
    "            change = np.mean(np.linalg.norm(self.centroids - prev_centroids))\n",
    "            self.iters +=1"
   ]
  },
  {
   "cell_type": "code",
   "execution_count": 96,
   "id": "cfb990b5",
   "metadata": {},
   "outputs": [
    {
     "data": {
      "text/plain": [
       "(array([[-24458.82066466, -60289.66740759],\n",
       "        [-24849.6431417 , -60696.46124582],\n",
       "        [-24296.7554053 , -59745.41367232],\n",
       "        ...,\n",
       "        [  1946.15102482,   -379.14125734],\n",
       "        [  1947.57069671,   -381.70272793],\n",
       "        [  1921.76791802,   -379.97526639]]),\n",
       " array([1., 1., 1., ..., 0., 0., 0.]))"
      ]
     },
     "execution_count": 96,
     "metadata": {},
     "output_type": "execute_result"
    }
   ],
   "source": [
    "x_class_km = (x_class, y_clr.to_numpy())\n",
    "x_class_km"
   ]
  },
  {
   "cell_type": "code",
   "execution_count": 97,
   "id": "a0293042",
   "metadata": {},
   "outputs": [
    {
     "name": "stdout",
     "output_type": "stream",
     "text": [
      "1365768497575.1377\n"
     ]
    },
    {
     "data": {
      "image/png": "[encoded data removed]",
      "text/plain": [
       "<Figure size 640x480 with 1 Axes>"
      ]
     },
     "metadata": {},
     "output_type": "display_data"
    }
   ],
   "source": [
    "km = KMeans(n_clusters=2)\n",
    "km.fit(x_class_km)\n",
    "print(km.inertia)\n",
    "plt.scatter(x_class_km[0][:,0], x_class_km[0][:,1], c=km.labels, cmap='inferno_r');\n",
    "plt.scatter(km.centroids[:,0], km.centroids[:,1], s=175, c='orange');\n"
   ]
  },
  {
   "cell_type": "markdown",
   "id": "24196626",
   "metadata": {},
   "source": [
    "# Используйте оригинальный датасет для регрессии (без понижения размерности). Обучите любую из линейных моделей, реализованных вами в ЛР1. Важно: модель должна быть реализована вами, не sklearn! Посмотрите значения коэффициентов модели, выберите несколько признаков с наибольшими значениями коэффициентов."
   ]
  },
  {
   "cell_type": "code",
   "execution_count": 105,
   "id": "a6f71497",
   "metadata": {},
   "outputs": [],
   "source": [
    "class LinReg:\n",
    "    def __init__(self, lr=0.001, iters=5000, eps=0.001):\n",
    "        self.lr = lr\n",
    "        self.iters = iters\n",
    "        self.eps = eps\n",
    "        \n",
    "    \n",
    "    def fit(self, x, y):\n",
    "        dist = np.inf\n",
    "        # X = self.transform(x)\n",
    "        X = x.values\n",
    "        self.X = X\n",
    "        w = np.zeros(X.shape[1])\n",
    "        iter = 0\n",
    "        while dist > self.eps and iter <= self.iters:\n",
    "            loss = self.fun_error(X, y, w)\n",
    "            w = w - (self.lr * 2 * np.dot(X.T, np.dot(X, w) - y) / X.shape[0]) # + лямбда * 2 \\n - для поддержки регуляризации \n",
    "            dist = np.abs(loss - self.fun_error(X, y, w))\n",
    "            iter += 1\n",
    "        self.w = w  \n",
    "    \n",
    "    def transform(self, x):\n",
    "        return np.concatenate(np.ones((len(x), 1)), axis=1)\n",
    "\n",
    "\n",
    "    def fun_error(self, x, y, w):\n",
    "        return sum((y - np.dot(x, w)) ** 2) / x.shape[0]\n",
    "    \n",
    "    def predict(self, x):\n",
    "        return np.dot(x, self.w)\n",
    "        \n",
    "\n",
    "    def select_k_best(self, n):\n",
    "        print(self.w)\n",
    "        W = list(zip(range(len(self.w)), self.w))\n",
    "        W = sorted(W, key=lambda x: x[1], reverse=True)\n",
    "        W = W[: n]\n",
    "        print(W)\n",
    "        print()\n",
    "        for i in range(len(W)):\n",
    "            print(W[i])\n",
    "\n",
    "    \n"
   ]
  },
  {
   "cell_type": "code",
   "execution_count": 107,
   "id": "55ff53e7",
   "metadata": {},
   "outputs": [],
   "source": [
    "X_train_rg, X_test_rg, y_train_rg, y_test_rg = train_test_split(X_reg, y_reg, test_size=0.2)"
   ]
  },
  {
   "cell_type": "code",
   "execution_count": 108,
   "id": "94fbca9d",
   "metadata": {},
   "outputs": [],
   "source": [
    "LR = LinReg()\n",
    "LR.fit(X_train_rg, y_train_rg)\n",
    "y_pred = LR.predict(X_train_rg)"
   ]
  },
  {
   "cell_type": "code",
   "execution_count": 109,
   "id": "351d999b",
   "metadata": {},
   "outputs": [
    {
     "name": "stdout",
     "output_type": "stream",
     "text": [
      "[-3.67744487e+153 -4.67119363e+151 -1.77764042e+152 -6.65682987e+150\n",
      " -6.59506685e+150 -2.33849254e+150 -2.43892068e+150 -3.00791832e+149\n",
      " -2.33849254e+150 -2.32866231e+150 -2.33849254e+150 -1.64954469e+149]\n",
      "[(11, -1.6495446936023408e+149), (7, -3.0079183160508152e+149), (9, -2.3286623135988323e+150), (5, -2.3384925372165225e+150), (8, -2.3384925372165225e+150), (10, -2.3384925372165225e+150), (6, -2.4389206828092323e+150), (4, -6.595066851689392e+150), (3, -6.656829867921727e+150), (1, -4.6711936286556644e+151)]\n",
      "\n",
      "(11, -1.6495446936023408e+149)\n",
      "(7, -3.0079183160508152e+149)\n",
      "(9, -2.3286623135988323e+150)\n",
      "(5, -2.3384925372165225e+150)\n",
      "(8, -2.3384925372165225e+150)\n",
      "(10, -2.3384925372165225e+150)\n",
      "(6, -2.4389206828092323e+150)\n",
      "(4, -6.595066851689392e+150)\n",
      "(3, -6.656829867921727e+150)\n",
      "(1, -4.6711936286556644e+151)\n"
     ]
    }
   ],
   "source": [
    "LR.select_k_best(10)"
   ]
  },
  {
   "cell_type": "code",
   "execution_count": null,
   "id": "4d7e1a13",
   "metadata": {},
   "outputs": [],
   "source": []
  }
 ],
 "metadata": {
  "kernelspec": {
   "display_name": "Python 3 (ipykernel)",
   "language": "python",
   "name": "python3"
  },
  "language_info": {
   "codemirror_mode": {
    "name": "ipython",
    "version": 3
   },
   "file_extension": ".py",
   "mimetype": "text/x-python",
   "name": "python",
   "nbconvert_exporter": "python",
   "pygments_lexer": "ipython3",
   "version": "3.10.11"
  }
 },
 "nbformat": 4,
 "nbformat_minor": 5
}
